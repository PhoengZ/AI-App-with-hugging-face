{
  "nbformat": 4,
  "nbformat_minor": 0,
  "metadata": {
    "colab": {
      "provenance": []
    },
    "kernelspec": {
      "name": "python3",
      "display_name": "Python 3"
    },
    "language_info": {
      "name": "python"
    }
  },
  "cells": [
    {
      "cell_type": "markdown",
      "source": [
        "# Question Answering : QA\n",
        "ตอบคำถามจาก \"บริบท\" ที่ให้"
      ],
      "metadata": {
        "id": "WFwuQOQzPYFe"
      }
    },
    {
      "cell_type": "code",
      "source": [
        "from transformers import pipeline\n",
        "import textwrap"
      ],
      "metadata": {
        "id": "5w7zJXCpPe3g"
      },
      "execution_count": null,
      "outputs": []
    },
    {
      "cell_type": "code",
      "source": [
        "qa = pipeline('question-answering')"
      ],
      "metadata": {
        "colab": {
          "base_uri": "https://localhost:8080/",
          "height": 345,
          "referenced_widgets": [
            "bd19c0b2af0041b3b3a85d2fbf5840ef",
            "68a54bdd5c7c48caa876e24825d4de15",
            "e0fdaef7a3504dbba6a4f12ae1d3ca56",
            "153b4e59896b418c8461902c48c43299",
            "0fdcbc1710904678a69fa0fd6cbb7d4b",
            "0647de5a443b40428b9a53c73a8acd52",
            "c62097db41c1435096d55433cf54a3ef",
            "3c145fef40cf4d6fb742791110132396",
            "c596ffca953f4a5c8eec52f514966cac",
            "f563a968ef734410ac1c50b5e1b09030",
            "a60e0cbe97a14e55a6f26176f478f339",
            "9c1602cc2be34d289bdbe80472d8bf49",
            "4e35f3ad5a2e46d4b6da04a796dc8ec7",
            "eaf4784d82324bc0a8bff19719c31c64",
            "0fd3d5bdaad7472aa9098ed31eea79f4",
            "61ebaa2aa01b4b76addb08e4a4d811ae",
            "21a5d69833c1472d96ca18d348e3e67c",
            "4dbf4294528f4bfe959f9ac3cbc95638",
            "ca182c066c024128b475827a9bddf8ec",
            "6c195a031b7b420fab7b33967f1dee4b",
            "ec935bd4cd01494caf97f6be523240b8",
            "2b20e33ef7124ad1a657a97239feb270",
            "742e37d3c5804e76b80c25da64c3f07d",
            "6f683b123e5d491082d6e8b7264e79ef",
            "63f6f4e2a745424c8d488fa1c64faf57",
            "6e859ce5bb254264bf6bb11ec559bd91",
            "d58228b6ab59474b9cf03ecb18d0604d",
            "89e55a3935ba4d91919c1c806b24867e",
            "8ca6ac2bd2ea48d48df265944a4f406f",
            "e79cee824f05408a9931bbcfeff6b51c",
            "c961e9b8f1074e3b8630e633b0ff2156",
            "fe01d3046bc5438f835ceed1de20cbfd",
            "15b50e88ee8548068c48319bd46e8288",
            "28ec699aec7f43678696728475ccfc6f",
            "523705ef063b4a6e983363642de3924c",
            "90c283fdda4449369d65839477a25254",
            "7a4737f8ea1f4edb8e0e9ef64836611b",
            "b6d698c665a0463ba967a53a1d615cc3",
            "6a3321ec8a9c45649fc53df99ed2b0de",
            "845149dbcfa347aa93fc69a25a5edb6a",
            "10a8c885d89745cc8278b877129ba7b7",
            "91b9f8d3824f4168baeea83639d44a77",
            "5a2b5cbab4a7425a9d8e1907b8c48299",
            "b66d333ae6d44ac3b454f8f1c3368eb3",
            "b87acec1f55c4985a04a9b6fd633fff8",
            "2ee110f50ebd464aa34aff57dd3d80fa",
            "7107b385d3794c858bba4c4233e42c39",
            "420d4d0f985b486f948a4efcdabe82d5",
            "1f34c457d5cd4dfeb42e895ba6da2cf0",
            "297a29e8600040d5b51e2892675fb8a7",
            "ecd82232ec7a468e82bb9385e479850c",
            "a7a6b21f4dda40faaa37a0f4e76068a2",
            "9c2f14142e19422687f65900db394f09",
            "d58221444bf947cd98672fd0a4a5c740",
            "203184210b004e0a9fa9cb5caea3576e",
            "1565a9bab9874e1cae422b30c523ba3b",
            "8d8940e77ca24bb5a08a5b55bfc9a641",
            "e1fc6b05d0d24c62ac0417f53c0b2062",
            "f4db79215a054aaf9214d392e0480740",
            "1ba2203dab364175af14c2b011f23602",
            "f5f63cdcf2064f84bd6ded26d8e7a623",
            "fd4b3dad800f45119007078596830386",
            "be8fc62a9d5a4107bceea3589846e9d0",
            "4443126918c84510ae5aa0fac814d874",
            "ea66f29c38e24a25aab62c94d56692df",
            "b782441e8271445b90e1678a2b305032",
            "7e99a70c38034d03a907372a6aff7e92",
            "8390b25e48a94af29bdafd5e7f081861",
            "4bde266a600646418b83d3488abf2a09",
            "98a345bd6e4b462189e8407dc803d5e1",
            "e971cbff2e9f472081b0019e00445adb",
            "3ac212bc754547359080d1f68b826082",
            "8efc7e783f9a44f4868979cf18a69446",
            "cf1735c494a24e63ab54bddfe1076fc0",
            "ed9615b6e2fb40af9f1bf0f1be006729",
            "5f3e76a0ac714521b72d1a15672a6556",
            "9b77b67bf5924f32a2af41fbd1a8e363",
            "a0c7497a7812429d89bb3d117bb89d83",
            "7d1d377892374707bb1f8036b88c6857",
            "25ba5fecf789445386f901ed9cfd84d9",
            "430d8cda8b7643ee8620cae4fec2a4e8",
            "7d417ccc7da04e799954b2d6b66bd46d",
            "0912dc1e399d4ca0b90537f40ccd70ae",
            "06a6ce94862046999e2e1f1a77eb7ed0",
            "41f5b2f0a3844badba1b2f7dd2417805",
            "2b7a00d6cc5c48b38621b6a7814a44d0",
            "c7ca5d19ced24db6933036e8c5c3c9d0",
            "3ebf501c1f5f4c9ca1527a4200320dc0"
          ]
        },
        "collapsed": true,
        "id": "CoYhfg-EPk7o",
        "outputId": "352e5c5e-c89f-491b-fa9e-e4c87a23f80d"
      },
      "execution_count": null,
      "outputs": [
        {
          "output_type": "stream",
          "name": "stderr",
          "text": [
            "No model was supplied, defaulted to distilbert/distilbert-base-cased-distilled-squad and revision 564e9b5 (https://huggingface.co/distilbert/distilbert-base-cased-distilled-squad).\n",
            "Using a pipeline without specifying a model name and revision in production is not recommended.\n"
          ]
        },
        {
          "output_type": "display_data",
          "data": {
            "text/plain": [
              "config.json:   0%|          | 0.00/473 [00:00<?, ?B/s]"
            ],
            "application/vnd.jupyter.widget-view+json": {
              "version_major": 2,
              "version_minor": 0,
              "model_id": "bd19c0b2af0041b3b3a85d2fbf5840ef"
            }
          },
          "metadata": {}
        },
        {
          "output_type": "display_data",
          "data": {
            "text/plain": [
              "model.safetensors:   0%|          | 0.00/261M [00:00<?, ?B/s]"
            ],
            "application/vnd.jupyter.widget-view+json": {
              "version_major": 2,
              "version_minor": 0,
              "model_id": "9c1602cc2be34d289bdbe80472d8bf49"
            }
          },
          "metadata": {}
        },
        {
          "output_type": "display_data",
          "data": {
            "text/plain": [
              "tokenizer_config.json:   0%|          | 0.00/49.0 [00:00<?, ?B/s]"
            ],
            "application/vnd.jupyter.widget-view+json": {
              "version_major": 2,
              "version_minor": 0,
              "model_id": "742e37d3c5804e76b80c25da64c3f07d"
            }
          },
          "metadata": {}
        },
        {
          "output_type": "display_data",
          "data": {
            "text/plain": [
              "vocab.txt: 0.00B [00:00, ?B/s]"
            ],
            "application/vnd.jupyter.widget-view+json": {
              "version_major": 2,
              "version_minor": 0,
              "model_id": "28ec699aec7f43678696728475ccfc6f"
            }
          },
          "metadata": {}
        },
        {
          "output_type": "display_data",
          "data": {
            "text/plain": [
              "tokenizer.json: 0.00B [00:00, ?B/s]"
            ],
            "application/vnd.jupyter.widget-view+json": {
              "version_major": 2,
              "version_minor": 0,
              "model_id": "b87acec1f55c4985a04a9b6fd633fff8"
            }
          },
          "metadata": {}
        },
        {
          "output_type": "display_data",
          "data": {
            "text/plain": [
              "Fetching 0 files: 0it [00:00, ?it/s]"
            ],
            "application/vnd.jupyter.widget-view+json": {
              "version_major": 2,
              "version_minor": 0,
              "model_id": "1565a9bab9874e1cae422b30c523ba3b"
            }
          },
          "metadata": {}
        },
        {
          "output_type": "display_data",
          "data": {
            "text/plain": [
              "Fetching 1 files:   0%|          | 0/1 [00:00<?, ?it/s]"
            ],
            "application/vnd.jupyter.widget-view+json": {
              "version_major": 2,
              "version_minor": 0,
              "model_id": "7e99a70c38034d03a907372a6aff7e92"
            }
          },
          "metadata": {}
        },
        {
          "output_type": "display_data",
          "data": {
            "text/plain": [
              "Fetching 0 files: 0it [00:00, ?it/s]"
            ],
            "application/vnd.jupyter.widget-view+json": {
              "version_major": 2,
              "version_minor": 0,
              "model_id": "a0c7497a7812429d89bb3d117bb89d83"
            }
          },
          "metadata": {}
        },
        {
          "output_type": "stream",
          "name": "stderr",
          "text": [
            "Device set to use cpu\n"
          ]
        }
      ]
    },
    {
      "cell_type": "code",
      "source": [
        "print(qa.model.name_or_path) # ชื่้อ model default"
      ],
      "metadata": {
        "colab": {
          "base_uri": "https://localhost:8080/"
        },
        "id": "eVwBAFGLPucI",
        "outputId": "607d1e76-89d0-4258-ad3f-d3955445b38d"
      },
      "execution_count": null,
      "outputs": [
        {
          "output_type": "stream",
          "name": "stdout",
          "text": [
            "distilbert/distilbert-base-cased-distilled-squad\n"
          ]
        }
      ]
    },
    {
      "cell_type": "code",
      "source": [
        "context = '''\n",
        "A neural network is a type of computing system inspired by the structure and function of the human brain. It's designed to recognize patterns in data by processing information through a series of interconnected nodes, similar to how biological neurons signal to one another. Instead of being explicitly programmed with rules, a neural network learns to perform tasks by analyzing examples.\n",
        "\n",
        "## How Neural Networks Work\n",
        "At its core, a neural network consists of three main types of layers made up of individual processing units called neurons or nodes.\n",
        "\n",
        "Input Layer: This is the network's entry point. Each neuron in this layer represents a single feature of the input data. For example, in an image of a handwritten digit, each neuron might correspond to the brightness of one pixel.\n",
        "\n",
        "Hidden Layers: These are the intermediate layers between the input and output. A network can have one or many hidden layers (a network with multiple hidden layers is called a \"deep\" neural network). This is where the real \"thinking\" happens. The network weighs the input data, identifies important features, and passes the results to the next layer. The complexity of the patterns a network can learn is directly related to the number and size of its hidden layers.\n",
        "\n",
        "Output Layer: This is the final layer that produces the result. The structure of this layer depends on the task. For a classification task (e.g., \"Is this email spam or not?\"), it might have two neurons. For identifying digits from 0 to 9, it would have ten neurons.\n",
        "\n",
        "Each connection between neurons has an associated weight, which is a number that represents the strength and importance of that connection. A positive weight excites the next neuron, while a negative weight suppresses it. The network learns by adjusting these weights. Each neuron also has an activation function, which is a small mathematical rule that determines whether the neuron should \"fire\" (activate) and pass its signal to the next layer, based on the combined weighted inputs it receives.\n",
        "\n",
        "## The Learning Process: Training 🧠\n",
        "A neural network learns through a process called training. This involves feeding it large amounts of labeled data and allowing it to adjust its internal weights to improve its performance.\n",
        "\n",
        "The process generally follows these steps:\n",
        "\n",
        "Prediction: The network receives an input (e.g., a picture of a cat) and makes a prediction based on its current weights. Initially, this prediction is just a random guess.\n",
        "\n",
        "Loss Calculation: The network's prediction is compared to the correct label (\"cat\"). A loss function calculates how wrong the prediction was. A high loss value means the prediction was far from the correct answer.\n",
        "\n",
        "Backpropagation and Optimization: This is the crucial learning step. The network uses the loss value to work backward from the output layer to the input layer, calculating how much each weight contributed to the error. An algorithm called an optimizer (like Gradient Descent) then makes tiny adjustments to all the weights to reduce the error.\n",
        "\n",
        "Iteration: This cycle of predicting, calculating loss, and adjusting weights is repeated thousands or even millions of times with all the data in the training set. With each iteration, the network's weights are fine-tuned, and its predictions become progressively more accurate.\n",
        "\n",
        "## Types and Applications\n",
        "Different architectures of neural networks are designed for specific tasks:\n",
        "\n",
        "Convolutional Neural Networks (CNNs): Specialized for processing grid-like data, such as images. They are the power behind image recognition, self-driving cars, and medical imaging analysis.\n",
        "\n",
        "Recurrent Neural Networks (RNNs): Designed to handle sequential data where order matters, like text or time-series data. They are used in natural language processing (NLP), machine translation (like Google Translate), and speech recognition.\n",
        "\n",
        "Today, neural networks are a cornerstone of artificial intelligence and are used in countless applications, including recommendation engines (Netflix, Spotify), financial fraud detection, medical diagnosis, and scientific research.\n",
        "'''"
      ],
      "metadata": {
        "id": "Hcls-u5AQDmI"
      },
      "execution_count": null,
      "outputs": []
    },
    {
      "cell_type": "code",
      "source": [
        "question = [\"1. What is the primary inspiration for the structure and function of a neural network?\", \"2. What is the main role of the hidden layers in a neural network?\",\n",
        "            \"3. In a neural network, what does a 'weight' associated with a connection represent?\", \"4. What is the purpose of an activation function within a neuron?\",\n",
        "            \"5. During the training process, what is the role of the loss function?\", \"6. What is backpropagation?\", \"7. Which type of neural network is specifically mentioned as being specialized for processing images?\"\n",
        "            ,\"8. For a task like machine translation (e.g., Google Translate), which neural network architecture would be most suitable?\", \"9. What is the correct order of steps in one iteration of the training process?\",\n",
        "            \"10. A neural network learns by being explicitly programmed with a set of rules for every possible situation.\"]"
      ],
      "metadata": {
        "id": "41THYAVbQdIX"
      },
      "execution_count": null,
      "outputs": []
    },
    {
      "cell_type": "code",
      "source": [
        "answers = qa(question=question, context=context)"
      ],
      "metadata": {
        "id": "Jfp6QHnxQ3Mf"
      },
      "execution_count": null,
      "outputs": []
    },
    {
      "cell_type": "code",
      "source": [
        "for i,a in enumerate(answers):\n",
        "  print(f'Question: {question[i]}')\n",
        "  print(f'Answer: {a[\"answer\"]}')\n",
        "  print(f'Score: {round(a[\"score\"],4)}\\n')"
      ],
      "metadata": {
        "colab": {
          "base_uri": "https://localhost:8080/"
        },
        "id": "fPdpp1UKRjzn",
        "outputId": "b6cdd125-6b1e-4728-fd73-dafacc5245ee"
      },
      "execution_count": null,
      "outputs": [
        {
          "output_type": "stream",
          "name": "stdout",
          "text": [
            "Question: 1. What is the primary inspiration for the structure and function of a neural network?\n",
            "Answer: human brain\n",
            "Score: 0.3502\n",
            "\n",
            "Question: 2. What is the main role of the hidden layers in a neural network?\n",
            "Answer: deep\" neural network). This is where the real \"thinking\" happens\n",
            "Score: 0.0157\n",
            "\n",
            "Question: 3. In a neural network, what does a 'weight' associated with a connection represent?\n",
            "Answer: strength and importance\n",
            "Score: 0.7656\n",
            "\n",
            "Question: 4. What is the purpose of an activation function within a neuron?\n",
            "Answer: pass its signal to the next layer\n",
            "Score: 0.201\n",
            "\n",
            "Question: 5. During the training process, what is the role of the loss function?\n",
            "Answer: calculates how wrong the prediction was\n",
            "Score: 0.7962\n",
            "\n",
            "Question: 6. What is backpropagation?\n",
            "Answer: the crucial learning step\n",
            "Score: 0.8098\n",
            "\n",
            "Question: 7. Which type of neural network is specifically mentioned as being specialized for processing images?\n",
            "Answer: Convolutional Neural Networks\n",
            "Score: 0.5431\n",
            "\n",
            "Question: 8. For a task like machine translation (e.g., Google Translate), which neural network architecture would be most suitable?\n",
            "Answer: speech recognition\n",
            "Score: 0.2539\n",
            "\n",
            "Question: 9. What is the correct order of steps in one iteration of the training process?\n",
            "Answer: thousands or even millions of times\n",
            "Score: 0.4542\n",
            "\n",
            "Question: 10. A neural network learns by being explicitly programmed with a set of rules for every possible situation.\n",
            "Answer: neural networks are a cornerstone of artificial intelligence\n",
            "Score: 0.0723\n",
            "\n"
          ]
        }
      ]
    },
    {
      "cell_type": "code",
      "source": [
        "# from above answers can summarized that if the context isn't\n",
        "# directly provide the answer, score and correcting are low\n",
        "# so we have to use llm that larger model than bart such as gpt4-o or gemini-2.5\n"
      ],
      "metadata": {
        "id": "UhO8d484RrbX"
      },
      "execution_count": null,
      "outputs": []
    }
  ]
}