{
  "nbformat": 4,
  "nbformat_minor": 0,
  "metadata": {
    "colab": {
      "provenance": []
    },
    "kernelspec": {
      "name": "python3",
      "display_name": "Python 3"
    },
    "language_info": {
      "name": "python"
    }
  },
  "cells": [
    {
      "cell_type": "markdown",
      "source": [
        "# Text classification\n",
        "ให้เลือก Model ที่ถูกฝึกมาด้วย Label ตรงกับงานที่เราต้องการ"
      ],
      "metadata": {
        "id": "lLoJ13FFjTdB"
      }
    },
    {
      "cell_type": "code",
      "source": [
        "from transformers import pipeline"
      ],
      "metadata": {
        "id": "2xc8nYWDpNkw"
      },
      "execution_count": null,
      "outputs": []
    },
    {
      "cell_type": "code",
      "source": [
        "model = 'distilbert-base-uncased-finetuned-sst-2-english'\n",
        "classifier = pipeline('text-classification', model=model)"
      ],
      "metadata": {
        "colab": {
          "base_uri": "https://localhost:8080/",
          "height": 162,
          "referenced_widgets": [
            "25f2520d48814c4493b23812c89d9379",
            "86942cc6f85e40bdb10d51602d5188dd",
            "c3db603cf0164aada75d23505faad2cf",
            "5fbebacd544e462a9f719f0040ed0a90",
            "718a23394fa14840917a99ff7776d129",
            "68b5c1cfa23a477285a7b72649f5fa0b",
            "8192fc28390c4852bdd7c979c033322c",
            "f0c1dae0c48142578960f33fe223c2e1",
            "430deedbc6294bf28f1e6a052510f8ec",
            "ca9b4204df324ab49a4d64366c06167e",
            "60f0842ece83449d98e15015a4b83a05",
            "39d95672b4f34d7bbbfb50547b1ad5a5",
            "ce46fa3c26214de8b4b4cf7314e5b021",
            "a7b615ce941a453ca2316378931a80ad",
            "2b07456172c3446080ac386ab7a89f5e",
            "340ac26623bc4a60a5f6120abf217dfe",
            "6c6dcd1c7f954f5b8bac85761423fa73",
            "1b451b8b1bb4459f874bdb8a95578436",
            "8bb51586f4ea46889ff02385bca01b0f",
            "1f1d5c8e4fe24fcdaf1d7b0b5d6e9c25",
            "2431330b8a43411bbd292ff42d92653f",
            "1905ea6511244401b5885a054ec00cd7",
            "a1a9b4f01bba4e71882a27372c1b032b",
            "eba21274b11f499db3d22d62f94405d1",
            "3a2ce20cb9a145a89fada17bccf24532",
            "a62b2005e2044fa6b3d85b6fded63e28",
            "d25882b5a0da43c896b60ed95ff7757c",
            "34982a5a209c4ae28e07a67dd06f86b6",
            "23b47a57a3664d0b9e686a19faf75d96",
            "8eff9161298643ae98349170fcd5432d",
            "8e691936d37c4074a87576ec9df2bb00",
            "2540e1aa94324e50b3782cce23845cad",
            "166ea456e5ac408ca6b686100e8dff82",
            "65e99d7d57d94b34a8b1b7996010372c",
            "9f81495c24a84af983ac4627d7a83abc",
            "6ddbe068367b41299b9de9e0d09cbdb3",
            "a42b6302200f452486d7b7b818c91969",
            "2a68e183b1d24af99955808fef836cb2",
            "d7bafaa504b24564936981ea91ca078b",
            "7599d12bdb624b1badb6a9c1e6f25c4b",
            "6e5da2d2576f4cfcb05167625e87be1b",
            "3ba5ef0aceb54c70909527f18d4084ab",
            "3dad5f9554c74ae88acef2a08ac379f8",
            "acdc504c128a4f3aaa9810354b427690"
          ]
        },
        "id": "7dntj6mc7mpJ",
        "outputId": "6d26b956-6a3b-4694-84a5-75e87500c766"
      },
      "execution_count": null,
      "outputs": [
        {
          "output_type": "display_data",
          "data": {
            "text/plain": [
              "config.json:   0%|          | 0.00/629 [00:00<?, ?B/s]"
            ],
            "application/vnd.jupyter.widget-view+json": {
              "version_major": 2,
              "version_minor": 0,
              "model_id": "25f2520d48814c4493b23812c89d9379"
            }
          },
          "metadata": {}
        },
        {
          "output_type": "display_data",
          "data": {
            "text/plain": [
              "model.safetensors:   0%|          | 0.00/268M [00:00<?, ?B/s]"
            ],
            "application/vnd.jupyter.widget-view+json": {
              "version_major": 2,
              "version_minor": 0,
              "model_id": "39d95672b4f34d7bbbfb50547b1ad5a5"
            }
          },
          "metadata": {}
        },
        {
          "output_type": "display_data",
          "data": {
            "text/plain": [
              "tokenizer_config.json:   0%|          | 0.00/48.0 [00:00<?, ?B/s]"
            ],
            "application/vnd.jupyter.widget-view+json": {
              "version_major": 2,
              "version_minor": 0,
              "model_id": "a1a9b4f01bba4e71882a27372c1b032b"
            }
          },
          "metadata": {}
        },
        {
          "output_type": "display_data",
          "data": {
            "text/plain": [
              "vocab.txt:   0%|          | 0.00/232k [00:00<?, ?B/s]"
            ],
            "application/vnd.jupyter.widget-view+json": {
              "version_major": 2,
              "version_minor": 0,
              "model_id": "65e99d7d57d94b34a8b1b7996010372c"
            }
          },
          "metadata": {}
        },
        {
          "output_type": "stream",
          "name": "stderr",
          "text": [
            "Device set to use cpu\n"
          ]
        }
      ]
    },
    {
      "cell_type": "code",
      "source": [
        "print(classifier.model.config.id2label)"
      ],
      "metadata": {
        "colab": {
          "base_uri": "https://localhost:8080/"
        },
        "id": "dCBV2zCI7y8x",
        "outputId": "d7eb0ae1-224c-4cc6-8208-6916c61a547b"
      },
      "execution_count": null,
      "outputs": [
        {
          "output_type": "stream",
          "name": "stdout",
          "text": [
            "{0: 'NEGATIVE', 1: 'POSITIVE'}\n"
          ]
        }
      ]
    },
    {
      "cell_type": "code",
      "source": [
        "Input =  [\n",
        "    \"I absolutely loved this movie! The acting was superb and the story was incredibly moving. A must-see for everyone.\",\n",
        "    \"The customer service was outstanding. They were so helpful and friendly, and they resolved my issue in minutes.\",\n",
        "    \"This was a complete waste of money. The item broke after just one use, and the quality is terrible. I'm very disappointed.\",\n",
        "    \"The experience was horrible from start to finish. The flight was delayed, the staff was rude, and my luggage was lost.\",\n",
        "    \"The product specifications include a 12th-generation processor, 16GB of RAM, and a 512GB solid-state drive.\",\n",
        "     \"The meeting is scheduled for Wednesday at 10:00 AM in conference room 3.\",\n",
        "    \":)\",\n",
        "]"
      ],
      "metadata": {
        "id": "qAJAIlWT_Pf_"
      },
      "execution_count": null,
      "outputs": []
    },
    {
      "cell_type": "code",
      "source": [
        "result = classifier(Input)"
      ],
      "metadata": {
        "id": "owpAIO4SANk-"
      },
      "execution_count": null,
      "outputs": []
    },
    {
      "cell_type": "code",
      "source": [
        "for i,item in enumerate(result):\n",
        "  print(f'Input: {Input[i]}')\n",
        "  print(f'Label: {item[\"label\"]}')\n",
        "  print(f'Score: {round(item[\"score\"],4)}\\n')"
      ],
      "metadata": {
        "colab": {
          "base_uri": "https://localhost:8080/"
        },
        "id": "pN_DCWKOAQZX",
        "outputId": "ed071164-37f6-421d-d9dd-3c962864fe97"
      },
      "execution_count": null,
      "outputs": [
        {
          "output_type": "stream",
          "name": "stdout",
          "text": [
            "Input: I absolutely loved this movie! The acting was superb and the story was incredibly moving. A must-see for everyone.\n",
            "Label: POSITIVE\n",
            "Score: 0.9999\n",
            "\n",
            "Input: The customer service was outstanding. They were so helpful and friendly, and they resolved my issue in minutes.\n",
            "Label: POSITIVE\n",
            "Score: 0.9997\n",
            "\n",
            "Input: This was a complete waste of money. The item broke after just one use, and the quality is terrible. I'm very disappointed.\n",
            "Label: NEGATIVE\n",
            "Score: 0.9998\n",
            "\n",
            "Input: The experience was horrible from start to finish. The flight was delayed, the staff was rude, and my luggage was lost.\n",
            "Label: NEGATIVE\n",
            "Score: 0.9998\n",
            "\n",
            "Input: The product specifications include a 12th-generation processor, 16GB of RAM, and a 512GB solid-state drive.\n",
            "Label: NEGATIVE\n",
            "Score: 0.981\n",
            "\n",
            "Input: The meeting is scheduled for Wednesday at 10:00 AM in conference room 3.\n",
            "Label: POSITIVE\n",
            "Score: 0.692\n",
            "\n",
            "Input: :)\n",
            "Label: POSITIVE\n",
            "Score: 0.6489\n",
            "\n"
          ]
        }
      ]
    },
    {
      "cell_type": "code",
      "source": [
        "# Emotion classification\n",
        "emotion_model = 'bhadresh-savani/bert-base-uncased-emotion'\n",
        "emotion_classification = pipeline('text-classification', model=emotion_model)"
      ],
      "metadata": {
        "colab": {
          "base_uri": "https://localhost:8080/",
          "height": 226,
          "referenced_widgets": [
            "50d58285e30e4a21b14c21e4ec48f162",
            "4e017a3ebd4f4402b84ad4be6a58b6bb",
            "db26ec8ffec640a4b01f3fb57d55a5bd",
            "c6ff45de262448ef9e51a8c3842bb9eb",
            "378574729a99497eb4972ecc68634025",
            "e524e08a1cfa4c34a097b542073a068e",
            "2b2126155dff400e955f088ef34d2e02",
            "51ace1eb2f2d4efbb9dc432c3ee70033",
            "610e63d0f4794b389a76fc7672ae9ad8",
            "b9e9ba65ddc44639823a2d3be8fc9132",
            "fbfaa484e5554e61ad5b733f6bd0ee8f",
            "9f20be849caf4e9b9e77897bfe52e7d4",
            "81ded773aa074b3caa7e5c53ba7c87b2",
            "3fdfb5ddd48b4ecb89e706b07aa31602",
            "a6d4888d41ba426a8335a5eae59d6115",
            "d761709f9328461b8ef7f4b2b267ba14",
            "2b134c9012df49bcbec828247a731175",
            "017d8bd090cb44fe90c123ca08abc92c",
            "a653807f04f647e5b2f6a0f2e3847fbb",
            "7dae736e509a40299e3af479b4be4116",
            "2d759d6c3ee94731a1f0d724584f2da4",
            "68932f0fc3ff4d739113f0deb4ba1893",
            "328b10a1e1464f11a1852c122766e0ad",
            "bd18581c8e324751b51a02fc5337b3c8",
            "a802783d027a4efb9d84186312ac9a17",
            "c324f7c64b3048248a6a82b79b3dfeda",
            "b8442e6b1e32433799c70af63f227e1c",
            "1cdccc77ff704b80bd6193e80a61e618",
            "eb9c646306b94f398a011c4330a84155",
            "515b27b65b864e6884d28a530add0028",
            "a86c5f0443e64387871d5f7fb19d46e4",
            "48a8426f196b4fbd9d23a01d75b97b96",
            "e7396cfc481b476cac3df95c5418d706",
            "3cea343ba95e4125ac1d7fcec6c94196",
            "6ad22ef720c94c93ace5f329e5d24ad8",
            "818b04d5edf748daba2a03728ef798f8",
            "37ce14892bd54354b00f21773def12e5",
            "06bb487d31a44c738b91fc491b950c14",
            "080d9182586644fcb30f4dccbec18d28",
            "702c13f258d34a439fa5e3b6df3b21b4",
            "7c75fe07aae44f588fb1002029231aeb",
            "43693d824585413791b5f54da8601cb9",
            "d9aa1c134e38406ab2759ecd04dda756",
            "b31b878417d84f659eb17d3b0d735d5e",
            "e9f7974897b543c39a701cd438edfc65",
            "ba19defc1afb4a749c1d28f84d92f963",
            "f0e77eb831f948db9a0360fc9cabfcdc",
            "ef11eb9b65504210a190030df358282e",
            "5759881b8bcf40b7bd0a87fe0ab56e83",
            "2e31973491f24877b6aedbea0cb8c093",
            "a2b147f82e384f719d6630bbcef71532",
            "23df2eaf10b34dd48c05c2f02bb43feb",
            "13135e4ebdfa4da3ad63cde741794e8c",
            "c864c9062c9645648ad8e71999dbc34b",
            "f72723a1ca1945649eda2cc50a35f5b5",
            "54c442c2486c4f6d986711a7bf663e6a",
            "055c6bbb49f54acb9484ff155279253e",
            "3ea94d2f7b4545a5b6184eca3d175b4a",
            "3f26723912ee439b95bad0e38d56f506",
            "31174713d4144e86ae387838912ec51e",
            "a77e5b1ee15f4d3d903c1df59c7f2b24",
            "608ae5b704cb4321914ef0307a8af8df",
            "8c045adbdb3349c49886277f3b15f943",
            "f5157d0298b54dbab73e945ce370f75a",
            "633f94e335834c1598471ee4598deaba",
            "7f22be61b1ca4bad9f671f0ff80be4f5"
          ]
        },
        "id": "Vv1F4HZwAaz-",
        "outputId": "2aed3330-184b-488f-b08d-ef5b5f9d22da"
      },
      "execution_count": null,
      "outputs": [
        {
          "output_type": "display_data",
          "data": {
            "text/plain": [
              "config.json:   0%|          | 0.00/935 [00:00<?, ?B/s]"
            ],
            "application/vnd.jupyter.widget-view+json": {
              "version_major": 2,
              "version_minor": 0,
              "model_id": "50d58285e30e4a21b14c21e4ec48f162"
            }
          },
          "metadata": {}
        },
        {
          "output_type": "display_data",
          "data": {
            "text/plain": [
              "model.safetensors:   0%|          | 0.00/438M [00:00<?, ?B/s]"
            ],
            "application/vnd.jupyter.widget-view+json": {
              "version_major": 2,
              "version_minor": 0,
              "model_id": "9f20be849caf4e9b9e77897bfe52e7d4"
            }
          },
          "metadata": {}
        },
        {
          "output_type": "display_data",
          "data": {
            "text/plain": [
              "tokenizer_config.json:   0%|          | 0.00/285 [00:00<?, ?B/s]"
            ],
            "application/vnd.jupyter.widget-view+json": {
              "version_major": 2,
              "version_minor": 0,
              "model_id": "328b10a1e1464f11a1852c122766e0ad"
            }
          },
          "metadata": {}
        },
        {
          "output_type": "display_data",
          "data": {
            "text/plain": [
              "vocab.txt: 0.00B [00:00, ?B/s]"
            ],
            "application/vnd.jupyter.widget-view+json": {
              "version_major": 2,
              "version_minor": 0,
              "model_id": "3cea343ba95e4125ac1d7fcec6c94196"
            }
          },
          "metadata": {}
        },
        {
          "output_type": "display_data",
          "data": {
            "text/plain": [
              "tokenizer.json: 0.00B [00:00, ?B/s]"
            ],
            "application/vnd.jupyter.widget-view+json": {
              "version_major": 2,
              "version_minor": 0,
              "model_id": "e9f7974897b543c39a701cd438edfc65"
            }
          },
          "metadata": {}
        },
        {
          "output_type": "display_data",
          "data": {
            "text/plain": [
              "special_tokens_map.json:   0%|          | 0.00/112 [00:00<?, ?B/s]"
            ],
            "application/vnd.jupyter.widget-view+json": {
              "version_major": 2,
              "version_minor": 0,
              "model_id": "54c442c2486c4f6d986711a7bf663e6a"
            }
          },
          "metadata": {}
        },
        {
          "output_type": "stream",
          "name": "stderr",
          "text": [
            "Device set to use cpu\n"
          ]
        }
      ]
    },
    {
      "cell_type": "code",
      "source": [
        "result = emotion_classification(Input)"
      ],
      "metadata": {
        "id": "T1PGH2BLDaxY"
      },
      "execution_count": null,
      "outputs": []
    },
    {
      "cell_type": "code",
      "source": [
        "for i, item in enumerate(result):\n",
        "  print(f'Input: {Input[i]}')\n",
        "  print(f'Label: {item[\"label\"]}')\n",
        "  print(f'Score: {round(item[\"score\"],4)}\\n')"
      ],
      "metadata": {
        "colab": {
          "base_uri": "https://localhost:8080/"
        },
        "id": "h4PGR06GDf0t",
        "outputId": "0b56bb6f-9f9b-46b4-d196-d592d86bfa52"
      },
      "execution_count": null,
      "outputs": [
        {
          "output_type": "stream",
          "name": "stdout",
          "text": [
            "Input: I absolutely loved this movie! The acting was superb and the story was incredibly moving. A must-see for everyone.\n",
            "Label: joy\n",
            "Score: 0.9972\n",
            "\n",
            "Input: The customer service was outstanding. They were so helpful and friendly, and they resolved my issue in minutes.\n",
            "Label: joy\n",
            "Score: 0.9961\n",
            "\n",
            "Input: This was a complete waste of money. The item broke after just one use, and the quality is terrible. I'm very disappointed.\n",
            "Label: sadness\n",
            "Score: 0.9986\n",
            "\n",
            "Input: The experience was horrible from start to finish. The flight was delayed, the staff was rude, and my luggage was lost.\n",
            "Label: anger\n",
            "Score: 0.9958\n",
            "\n",
            "Input: The product specifications include a 12th-generation processor, 16GB of RAM, and a 512GB solid-state drive.\n",
            "Label: joy\n",
            "Score: 0.8758\n",
            "\n",
            "Input: The meeting is scheduled for Wednesday at 10:00 AM in conference room 3.\n",
            "Label: anger\n",
            "Score: 0.6047\n",
            "\n",
            "Input: :)\n",
            "Label: anger\n",
            "Score: 0.8872\n",
            "\n"
          ]
        }
      ]
    },
    {
      "cell_type": "code",
      "source": [
        "# ถ้าอยากให้แต่ละ result ของแต่ละ Input มีการแสดงหลายคำตอบ เช่น 3 อันดันแรกของคำตอบ ใช้ top_k parameter เช่น\n",
        "emotion_classification = pipeline('text-classification', model=emotion_model, top_k = 3) # แสดงสามอันดับแรก"
      ],
      "metadata": {
        "colab": {
          "base_uri": "https://localhost:8080/"
        },
        "id": "IU9CBagoDljF",
        "outputId": "211ee05e-082c-4825-8a57-9c368f0923f1"
      },
      "execution_count": null,
      "outputs": [
        {
          "output_type": "stream",
          "name": "stderr",
          "text": [
            "Device set to use cpu\n"
          ]
        }
      ]
    },
    {
      "cell_type": "code",
      "source": [
        "result = emotion_classification(Input)"
      ],
      "metadata": {
        "id": "pLWsL_b5Etl8"
      },
      "execution_count": null,
      "outputs": []
    },
    {
      "cell_type": "code",
      "source": [
        "for i in range(len(Input)):\n",
        "  print('Input: ',Input[i])\n",
        "  print(result[i],\"\\n\")"
      ],
      "metadata": {
        "colab": {
          "base_uri": "https://localhost:8080/"
        },
        "id": "cAby0RLTEwWE",
        "outputId": "ce864543-72d9-4ee5-e453-74b109061f95"
      },
      "execution_count": null,
      "outputs": [
        {
          "output_type": "stream",
          "name": "stdout",
          "text": [
            "Input:  I absolutely loved this movie! The acting was superb and the story was incredibly moving. A must-see for everyone.\n",
            "[{'label': 'joy', 'score': 0.9972085356712341}, {'label': 'love', 'score': 0.0017724557546898723}, {'label': 'surprise', 'score': 0.0006160543416626751}] \n",
            "\n",
            "Input:  The customer service was outstanding. They were so helpful and friendly, and they resolved my issue in minutes.\n",
            "[{'label': 'joy', 'score': 0.996095597743988}, {'label': 'love', 'score': 0.002867075614631176}, {'label': 'sadness', 'score': 0.00040157465264201164}] \n",
            "\n",
            "Input:  This was a complete waste of money. The item broke after just one use, and the quality is terrible. I'm very disappointed.\n",
            "[{'label': 'sadness', 'score': 0.998582124710083}, {'label': 'anger', 'score': 0.0005089585902169347}, {'label': 'fear', 'score': 0.00034217126085422933}] \n",
            "\n",
            "Input:  The experience was horrible from start to finish. The flight was delayed, the staff was rude, and my luggage was lost.\n",
            "[{'label': 'anger', 'score': 0.9958446621894836}, {'label': 'sadness', 'score': 0.0019631085451692343}, {'label': 'fear', 'score': 0.0013155576307326555}] \n",
            "\n",
            "Input:  The product specifications include a 12th-generation processor, 16GB of RAM, and a 512GB solid-state drive.\n",
            "[{'label': 'joy', 'score': 0.8757752776145935}, {'label': 'sadness', 'score': 0.05095992609858513}, {'label': 'anger', 'score': 0.031226862221956253}] \n",
            "\n",
            "Input:  The meeting is scheduled for Wednesday at 10:00 AM in conference room 3.\n",
            "[{'label': 'anger', 'score': 0.6047093272209167}, {'label': 'joy', 'score': 0.22356747090816498}, {'label': 'fear', 'score': 0.14759762585163116}] \n",
            "\n",
            "Input:  :)\n",
            "[{'label': 'anger', 'score': 0.887201189994812}, {'label': 'joy', 'score': 0.06134170666337013}, {'label': 'sadness', 'score': 0.029833415523171425}] \n",
            "\n"
          ]
        }
      ]
    }
  ]
}