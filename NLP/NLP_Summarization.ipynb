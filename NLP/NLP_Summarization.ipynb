{
  "nbformat": 4,
  "nbformat_minor": 0,
  "metadata": {
    "colab": {
      "provenance": []
    },
    "kernelspec": {
      "name": "python3",
      "display_name": "Python 3"
    },
    "language_info": {
      "name": "python"
    }
  },
  "cells": [
    {
      "cell_type": "code",
      "source": [
        "from transformers import pipeline\n",
        "from transformers import AutoTokenizer"
      ],
      "metadata": {
        "id": "tyH2zKwI6y6s"
      },
      "execution_count": null,
      "outputs": []
    },
    {
      "cell_type": "code",
      "source": [
        "summarize = pipeline('summarization')\n",
        "model = summarize.model.name_or_path\n",
        "print(model) # Default model"
      ],
      "metadata": {
        "colab": {
          "base_uri": "https://localhost:8080/"
        },
        "id": "qXQvic8l62O9",
        "outputId": "1ed605b5-3c34-4873-c6f0-9705e45295ea"
      },
      "execution_count": null,
      "outputs": [
        {
          "output_type": "stream",
          "name": "stderr",
          "text": [
            "No model was supplied, defaulted to sshleifer/distilbart-cnn-12-6 and revision a4f8f3e (https://huggingface.co/sshleifer/distilbart-cnn-12-6).\n",
            "Using a pipeline without specifying a model name and revision in production is not recommended.\n",
            "Device set to use cpu\n"
          ]
        },
        {
          "output_type": "stream",
          "name": "stdout",
          "text": [
            "sshleifer/distilbart-cnn-12-6\n"
          ]
        }
      ]
    },
    {
      "cell_type": "code",
      "source": [
        "fullarticle = '''\n",
        "The Theory of Everything\n",
        "The film opens at the University of Cambridge in 1963, where Stephen Hawking (Eddie Redmayne), a brilliant but awkward cosmology student, meets Jane Wilde (Felicity Jones), a bright and devout student of literature. Despite their contrasting worldviews—science versus faith—the two fall deeply in love. Their relationship blossoms amidst the intellectual vibrancy of Cambridge, with a bright and promising future seemingly ahead of them.\n",
        "\n",
        "However, their world takes a devastating turn when Stephen begins to show symptoms of muscle weakness, culminating in a severe fall. He is diagnosed with Motor Neuron Disease (ALS) and given a shocking prognosis: he has only two years to live. As his world crumbles, Stephen tries to push Jane away to spare her the burden of his illness. But with unwavering love and determination, Jane insists on staying by his side to fight with him. They decide to marry, stepping into an uncertain future guided by their powerful commitment to one another.\n",
        "\n",
        "The film masterfully portrays the astonishing contrast between Stephen's body and mind. While his physical condition deteriorates progressively—moving from canes to a wheelchair and eventually losing his ability to speak—the universe within his mind expands infinitely. He develops revolutionary theories about black holes, the origin of the universe, and \"Hawking radiation,\" which establish him as one of the greatest scientific minds of his time.\n",
        "\n",
        "Behind this success lies Jane’s own heroic struggle. She navigates the immense challenges of being a wife, a mother to their three children, and a full-time caregiver. Her exhaustion and isolation lead her to find support in Jonathan Hellyer Jones, a local church choir director who becomes a kind family friend and a source of comfort for Jane. Meanwhile, after a life-saving tracheotomy costs Stephen his voice completely, he is introduced to a new nurse, Elaine Mason, who helps him communicate with the world again through his now-iconic computer-generated voice.\n",
        "\n",
        "The complex and evolving nature of their relationships eventually leads to a painful but mutual decision. Stephen and Jane agree to separate amicably, allowing each to pursue a new path. Stephen begins a new life with Elaine, while Jane finds happiness with Jonathan.\n",
        "\n",
        "In the end, Stephen, now a global icon following the publication of his book \"A Brief History of Time,\" invites Jane to accompany him to meet the Queen. In a beautiful garden, they look upon their grown children, and Stephen says through his synthesizer, \"Look what we made.\" This single line encapsulates their entire journey. The film closes by rewinding through their life together, all the way back to the moment they first met, reminding the audience that while time moves forward, the bond they forged and the legacy they created are eternal. \"The Theory of Everything\" is ultimately not just a story of a brilliant physicist, but an epic tale of love, sacrifice, and the profound power of the human will to transcend physical limitations.\n",
        "'''"
      ],
      "metadata": {
        "id": "AtFDRSdf7IEF"
      },
      "execution_count": null,
      "outputs": []
    },
    {
      "cell_type": "code",
      "source": [
        "# initiate tokenizer for token counting\n",
        "tokenizer = AutoTokenizer.from_pretrained(model) # Parameter is string name's model"
      ],
      "metadata": {
        "id": "T3hkkhEH8LNd"
      },
      "execution_count": null,
      "outputs": []
    },
    {
      "cell_type": "code",
      "source": [
        "# Count the token for the full article\n",
        "token = tokenizer(fullarticle)\n",
        "print(token)"
      ],
      "metadata": {
        "colab": {
          "base_uri": "https://localhost:8080/"
        },
        "id": "3UefNGDd97vL",
        "outputId": "f77bd5d3-1746-4893-d1ae-0c028831823b"
      },
      "execution_count": null,
      "outputs": [
        {
          "output_type": "stream",
          "name": "stdout",
          "text": [
            "{'input_ids': [0, 50118, 133, 26305, 9, 9567, 50118, 133, 822, 5699, 23, 5, 589, 9, 6912, 11, 18733, 6, 147, 3259, 27604, 36, 717, 16134, 324, 1211, 12488, 858, 238, 10, 6967, 53, 11789, 12793, 40006, 1294, 6, 6616, 7343, 33941, 36, 39611, 24414, 1454, 238, 10, 4520, 8, 36906, 1294, 9, 13144, 4, 2285, 49, 31003, 35302, 29, 578, 33749, 4411, 3975, 578, 627, 80, 1136, 4814, 11, 657, 4, 2667, 1291, 25734, 6806, 24018, 5, 9594, 23338, 3917, 4469, 9, 6912, 6, 19, 10, 4520, 8, 6177, 499, 6590, 789, 9, 106, 4, 50118, 50118, 10462, 6, 49, 232, 1239, 10, 7360, 1004, 77, 3259, 3772, 7, 311, 5298, 9, 8698, 8269, 6, 29681, 11, 10, 3814, 1136, 4, 91, 16, 6443, 19, 5512, 3864, 39508, 11817, 36, 19569, 43, 8, 576, 10, 8777, 17618, 32444, 35, 37, 34, 129, 80, 107, 7, 697, 4, 287, 39, 232, 3977, 19229, 6, 3259, 5741, 7, 1920, 7343, 409, 7, 10628, 69, 5, 6976, 9, 39, 5467, 4, 125, 19, 10963, 28031, 657, 8, 8964, 6, 7343, 9838, 15, 4959, 30, 39, 526, 7, 1032, 19, 123, 4, 252, 2845, 7, 12908, 6, 8296, 88, 41, 9684, 499, 10346, 30, 49, 2247, 2720, 7, 65, 277, 4, 50118, 50118, 133, 822, 4710, 6459, 29565, 5, 19720, 5709, 227, 3259, 18, 809, 8, 1508, 4, 616, 39, 2166, 1881, 26694, 1626, 32080, 578, 19838, 31, 64, 293, 7, 10, 14298, 8, 2140, 2086, 39, 1460, 7, 1994, 578, 627, 9468, 624, 39, 1508, 20539, 40489, 4, 91, 12626, 16097, 14831, 59, 909, 6538, 6, 5, 9813, 9, 5, 9468, 6, 8, 22, 32152, 7037, 13785, 60, 61, 5242, 123, 25, 65, 9, 5, 3968, 6441, 7283, 9, 39, 86, 4, 50118, 50118, 43414, 42, 1282, 5738, 7343, 17, 27, 29, 308, 24666, 3860, 4, 264, 24708, 1626, 5, 14151, 2019, 9, 145, 10, 1141, 6, 10, 985, 7, 49, 130, 408, 6, 8, 10, 455, 12, 958, 31745, 8538, 4, 1405, 30567, 8, 13084, 483, 69, 7, 465, 323, 11, 4167, 11141, 6426, 1454, 6, 10, 400, 2352, 18558, 736, 54, 3374, 10, 761, 284, 1441, 8, 10, 1300, 9, 5863, 13, 7343, 4, 2276, 6, 71, 10, 301, 12, 15999, 2664, 7374, 40139, 1042, 3259, 39, 2236, 2198, 6, 37, 16, 2942, 7, 10, 92, 9008, 6, 19310, 7332, 6, 54, 2607, 123, 8469, 19, 5, 232, 456, 149, 39, 122, 12, 17505, 636, 3034, 12, 21842, 2236, 4, 50118, 50118, 133, 2632, 8, 14007, 2574, 9, 49, 4158, 2140, 3315, 7, 10, 8661, 53, 7628, 568, 4, 3259, 8, 7343, 2854, 7, 2559, 524, 31249, 6, 2455, 349, 7, 5445, 10, 92, 2718, 4, 3259, 3772, 10, 92, 301, 19, 19310, 6, 150, 7343, 5684, 11098, 19, 4167, 4, 50118, 50118, 1121, 5, 253, 6, 3259, 6, 122, 10, 720, 9360, 511, 5, 5362, 9, 39, 1040, 22, 250, 14201, 7298, 9, 3421, 60, 19101, 7343, 7, 20453, 123, 7, 972, 5, 3929, 4, 96, 10, 2721, 5671, 6, 51, 356, 2115, 49, 3831, 408, 6, 8, 3259, 161, 149, 39, 33689, 6315, 6, 22, 15833, 99, 52, 156, 72, 152, 881, 516, 32831, 15719, 49, 1445, 3251, 4, 20, 822, 14454, 30, 769, 605, 24088, 149, 49, 301, 561, 6, 70, 5, 169, 124, 7, 5, 1151, 51, 78, 1145, 6, 19327, 5, 2437, 14, 150, 86, 3136, 556, 6, 5, 2175, 51, 17695, 8, 5, 5184, 51, 1412, 32, 25023, 4, 22, 133, 26305, 9, 9567, 113, 16, 3284, 45, 95, 10, 527, 9, 10, 6967, 33832, 6, 53, 41, 9066, 10390, 9, 657, 6, 9802, 6, 8, 5, 13960, 476, 9, 5, 1050, 40, 7, 32539, 2166, 11948, 4, 50118, 1437, 1437, 1437, 1437, 1437, 1437, 1437, 1437, 1437, 1437, 1437, 1437, 1437, 1437, 2], 'attention_mask': [1, 1, 1, 1, 1, 1, 1, 1, 1, 1, 1, 1, 1, 1, 1, 1, 1, 1, 1, 1, 1, 1, 1, 1, 1, 1, 1, 1, 1, 1, 1, 1, 1, 1, 1, 1, 1, 1, 1, 1, 1, 1, 1, 1, 1, 1, 1, 1, 1, 1, 1, 1, 1, 1, 1, 1, 1, 1, 1, 1, 1, 1, 1, 1, 1, 1, 1, 1, 1, 1, 1, 1, 1, 1, 1, 1, 1, 1, 1, 1, 1, 1, 1, 1, 1, 1, 1, 1, 1, 1, 1, 1, 1, 1, 1, 1, 1, 1, 1, 1, 1, 1, 1, 1, 1, 1, 1, 1, 1, 1, 1, 1, 1, 1, 1, 1, 1, 1, 1, 1, 1, 1, 1, 1, 1, 1, 1, 1, 1, 1, 1, 1, 1, 1, 1, 1, 1, 1, 1, 1, 1, 1, 1, 1, 1, 1, 1, 1, 1, 1, 1, 1, 1, 1, 1, 1, 1, 1, 1, 1, 1, 1, 1, 1, 1, 1, 1, 1, 1, 1, 1, 1, 1, 1, 1, 1, 1, 1, 1, 1, 1, 1, 1, 1, 1, 1, 1, 1, 1, 1, 1, 1, 1, 1, 1, 1, 1, 1, 1, 1, 1, 1, 1, 1, 1, 1, 1, 1, 1, 1, 1, 1, 1, 1, 1, 1, 1, 1, 1, 1, 1, 1, 1, 1, 1, 1, 1, 1, 1, 1, 1, 1, 1, 1, 1, 1, 1, 1, 1, 1, 1, 1, 1, 1, 1, 1, 1, 1, 1, 1, 1, 1, 1, 1, 1, 1, 1, 1, 1, 1, 1, 1, 1, 1, 1, 1, 1, 1, 1, 1, 1, 1, 1, 1, 1, 1, 1, 1, 1, 1, 1, 1, 1, 1, 1, 1, 1, 1, 1, 1, 1, 1, 1, 1, 1, 1, 1, 1, 1, 1, 1, 1, 1, 1, 1, 1, 1, 1, 1, 1, 1, 1, 1, 1, 1, 1, 1, 1, 1, 1, 1, 1, 1, 1, 1, 1, 1, 1, 1, 1, 1, 1, 1, 1, 1, 1, 1, 1, 1, 1, 1, 1, 1, 1, 1, 1, 1, 1, 1, 1, 1, 1, 1, 1, 1, 1, 1, 1, 1, 1, 1, 1, 1, 1, 1, 1, 1, 1, 1, 1, 1, 1, 1, 1, 1, 1, 1, 1, 1, 1, 1, 1, 1, 1, 1, 1, 1, 1, 1, 1, 1, 1, 1, 1, 1, 1, 1, 1, 1, 1, 1, 1, 1, 1, 1, 1, 1, 1, 1, 1, 1, 1, 1, 1, 1, 1, 1, 1, 1, 1, 1, 1, 1, 1, 1, 1, 1, 1, 1, 1, 1, 1, 1, 1, 1, 1, 1, 1, 1, 1, 1, 1, 1, 1, 1, 1, 1, 1, 1, 1, 1, 1, 1, 1, 1, 1, 1, 1, 1, 1, 1, 1, 1, 1, 1, 1, 1, 1, 1, 1, 1, 1, 1, 1, 1, 1, 1, 1, 1, 1, 1, 1, 1, 1, 1, 1, 1, 1, 1, 1, 1, 1, 1, 1, 1, 1, 1, 1, 1, 1, 1, 1, 1, 1, 1, 1, 1, 1, 1, 1, 1, 1, 1, 1, 1, 1, 1, 1, 1, 1, 1, 1, 1, 1, 1, 1, 1, 1, 1, 1, 1, 1, 1, 1, 1, 1, 1, 1, 1, 1, 1, 1, 1, 1, 1, 1, 1, 1, 1, 1, 1, 1, 1, 1, 1, 1, 1, 1, 1, 1, 1, 1, 1, 1, 1, 1, 1, 1, 1, 1, 1, 1, 1, 1, 1, 1, 1, 1, 1, 1, 1, 1, 1, 1, 1, 1, 1, 1, 1, 1, 1, 1, 1, 1, 1, 1, 1, 1, 1, 1, 1, 1, 1, 1, 1, 1, 1, 1, 1, 1, 1, 1, 1, 1, 1, 1, 1, 1, 1, 1, 1, 1, 1, 1, 1, 1, 1, 1]}\n"
          ]
        }
      ]
    },
    {
      "cell_type": "code",
      "source": [
        "import textwrap\n",
        "summary = summarize(fullarticle)"
      ],
      "metadata": {
        "id": "1Yqo2G6_-MyD"
      },
      "execution_count": null,
      "outputs": []
    },
    {
      "cell_type": "code",
      "source": [
        "# Try longer summarized\n",
        "longer_summary = summarize(fullarticle, min_length=100, max_length=150)"
      ],
      "metadata": {
        "id": "ypE5LKqsCoDJ"
      },
      "execution_count": null,
      "outputs": []
    },
    {
      "cell_type": "code",
      "source": [
        "# Try shorter summarized\n",
        "shortest_summary = summarize(fullarticle, min_length=10, max_length=15)"
      ],
      "metadata": {
        "id": "fRCKRhzWDAkz"
      },
      "execution_count": null,
      "outputs": []
    },
    {
      "cell_type": "code",
      "source": [
        "print(\"\\n\".join(textwrap.wrap(summary[0]['summary_text'])))\n",
        "print(f\"Token counting: {len(tokenizer.tokenize(summary[0]['summary_text']))}\")"
      ],
      "metadata": {
        "colab": {
          "base_uri": "https://localhost:8080/"
        },
        "id": "dA6yzAEd-iy6",
        "outputId": "fc32c3d5-86b4-4daf-ad09-3bdfc8e6a140"
      },
      "execution_count": null,
      "outputs": [
        {
          "output_type": "stream",
          "name": "stdout",
          "text": [
            " \"The Theory of Everything\" stars Eddie Redmayne and Felicity Jones .\n",
            "The film stars as Stephen Hawking, a brilliant but awkward cosmology\n",
            "student . He develops revolutionary theories about black holes, the\n",
            "origin of the universe, and \"Hawking radiation\" The film masterfully\n",
            "portrays the contrast between Stephen's body and mind .\n",
            "Token counting: 65\n"
          ]
        }
      ]
    },
    {
      "cell_type": "code",
      "source": [
        "print(\"\\n\".join(textwrap.wrap(longer_summary[0]['summary_text'])))\n",
        "print(f\"Token counting: {len(tokenizer.tokenize(longer_summary[0]['summary_text']))}\")"
      ],
      "metadata": {
        "colab": {
          "base_uri": "https://localhost:8080/"
        },
        "id": "ExtBIpAGCYAY",
        "outputId": "7cfd0478-93c0-4f51-b936-bdee13b1d9d0"
      },
      "execution_count": null,
      "outputs": [
        {
          "output_type": "stream",
          "name": "stdout",
          "text": [
            " \"The Theory of Everything\" stars Eddie Redmayne and Felicity Jones .\n",
            "The film stars as Stephen Hawking, a brilliant but awkward cosmology\n",
            "student . He develops revolutionary theories about black holes, the\n",
            "origin of the universe, and \"Hawking radiation\" He is diagnosed with\n",
            "Motor Neuron Disease (ALS) and given a shocking prognosis: he has only\n",
            "two years to live . While his physical condition deteriorates\n",
            "progressively, the universe within his mind expands infinitely . While\n",
            "Stephen tries to push Jane away to spare her the burden of his\n",
            "illness, she stays by his side to fight with him .\n",
            "Token counting: 119\n"
          ]
        }
      ]
    },
    {
      "cell_type": "code",
      "source": [
        "print(\"\\n\".join(textwrap.wrap(shortest_summary[0]['summary_text'])))\n",
        "print(f\"Token counting: {len(tokenizer.tokenize(shortest_summary[0]['summary_text']))}\")"
      ],
      "metadata": {
        "colab": {
          "base_uri": "https://localhost:8080/"
        },
        "id": "Mem541sbC5bJ",
        "outputId": "94fa2194-c517-4ff4-e89a-5c5c159d37e4"
      },
      "execution_count": null,
      "outputs": [
        {
          "output_type": "stream",
          "name": "stdout",
          "text": [
            " The Theory of Everything stars Eddie Redmayne and Felicity\n",
            "Token counting: 12\n"
          ]
        }
      ]
    },
    {
      "cell_type": "code",
      "source": [
        "# Try another model\n",
        "model2 = 'facebook/bart-large-cnn'\n",
        "another_summarize = pipeline('summarization', model=model2)\n",
        "print(another_summarize.model.name_or_path)"
      ],
      "metadata": {
        "colab": {
          "base_uri": "https://localhost:8080/",
          "height": 244,
          "referenced_widgets": [
            "58052f26ddd345b0ab1fe16c9607f5a6",
            "45e73b9c2d25454fa4c779cd1d167fe2",
            "fc340ea0457d4f4da84f4e56c3b47172",
            "882b50deac9e40cd9b256e067468fc7c",
            "8718d1560dd44fda90c052de213a1b0c",
            "4639b41ac3504b399b14a7bac9a6f1ae",
            "ac964b23897544f3935ff0f738604920",
            "c4ddc70723bf4c6698c4da7ba9748360",
            "32e8bc9f5de947aca550e846e38e0ac3",
            "1f173d3cec81431694b58c057c49f70c",
            "ed628e7615694fb881d0f23b66e70d91",
            "8da0008c17794883b2fe57ce12f9e3c5",
            "ab11da959a3e4d87b16d8e5f93d58ba0",
            "d9654bdd9ccc456da0b6788cb268a5fd",
            "08490e254a0e4f0ab408690142d40dbc",
            "f9f640cbf1bc4befb34ce66df00a38c4",
            "7b5b17a36e1b4fee9c9fb14d53a8fdea",
            "37a8a470be634c848a24c1043e071dad",
            "8828d12eb9ba4942968ae33f0758c59e",
            "8b59868479b04f029fde118543758316",
            "e701a1b321d84dc0926fc0ffed0c97e3",
            "4a9ce68f2ba843418c75d8e2e0bc05ef",
            "2cf06bb4cfc343099da80517bd9d8626",
            "37d27db81fe0422fa29d7f4a1ddda746",
            "f166528629104c22b6b281cc44b05749",
            "549528a7ce614816ac3f040a516f53d4",
            "85cba8cfb91141cfa1e26d66a2e8bb78",
            "61e395c80ab0467a9748c1b7f9b78fce",
            "be31238d2dbc480b80263ccf28e99c83",
            "6bc69440c6c84759aff9efebab4f044f",
            "8168a0a1c6064aac8d06e5acbd9a834e",
            "da7d8c76198d4549af1b6644b3e5873b",
            "aa506ba6832548b9aa40f0e629c1fb95",
            "6d389e96af49488098c912c550b77892",
            "dbb5806a1e164ee0aada284bbeedfca0",
            "61358939161c458da2899918a65fdb83",
            "0bc8bcd21a354eadace87ab58e4aaa69",
            "68d034719c8a4fb59e95ae667ac3944d",
            "f87b3033820041d48fbfb904db78d779",
            "87694b530ef745abbab4e58dbb953a98",
            "0acd7de7b65148d5b50a62249380ad24",
            "26acaac216f041aa98810c83c3e39472",
            "37930fce2c284abdb953decd80024102",
            "03860171a74a444eb206c6d02bd5fd4a",
            "5f49df53f49b4de0b9fdcd4e779d9b3e",
            "b94b2326fc234fb287a9f22886865587",
            "1a7835eb33b44ab58fe862f3c2e8c542",
            "bab472f3182a49469d723f27c763828a",
            "4cbc5cf2fd5e47b7b54ecd028533f3e0",
            "9c333693741e4596b399cf8dc640a9f8",
            "fa69e65da8ea4a12b7b92f09b17828e6",
            "a67d5d3ee7fa48feaf2c48714be780ad",
            "88096878e3744f949fd2d4f7ef237ae8",
            "7cb40c5ebd9845a3807cdc6f0d1817bf",
            "9e6f19755e8d47d6b2588f2ef84db366",
            "97c81342112040aa989412be9019cf41",
            "f360c3bdc8ff4e4da34888e61e0bb4c1",
            "c04d8b4c7d3b40b3911f8bb823182c43",
            "1220b3df1f234f2db768318a0fc0a36d",
            "f831123089f94307b5c096110eaeb967",
            "93b1a052c9b34196a6b9ab77b7c73eb4",
            "047b5fd3cd9d4bbf9dd1130440eeada5",
            "7904ab27b33a4ec993bfe45b1d217ec9",
            "74affcb0987d4d18a742f4e70a6fa3d3",
            "d36ff8dae6ef498290668f3198afd81d",
            "94b2472dd7fa4a03af99f68315aab7ea"
          ]
        },
        "id": "MctmhhCdDJ9n",
        "outputId": "9236a032-b9a2-4cd2-ab87-bad716a3d3f6"
      },
      "execution_count": null,
      "outputs": [
        {
          "output_type": "display_data",
          "data": {
            "text/plain": [
              "config.json: 0.00B [00:00, ?B/s]"
            ],
            "application/vnd.jupyter.widget-view+json": {
              "version_major": 2,
              "version_minor": 0,
              "model_id": "58052f26ddd345b0ab1fe16c9607f5a6"
            }
          },
          "metadata": {}
        },
        {
          "output_type": "display_data",
          "data": {
            "text/plain": [
              "model.safetensors:   0%|          | 0.00/1.63G [00:00<?, ?B/s]"
            ],
            "application/vnd.jupyter.widget-view+json": {
              "version_major": 2,
              "version_minor": 0,
              "model_id": "8da0008c17794883b2fe57ce12f9e3c5"
            }
          },
          "metadata": {}
        },
        {
          "output_type": "display_data",
          "data": {
            "text/plain": [
              "generation_config.json:   0%|          | 0.00/363 [00:00<?, ?B/s]"
            ],
            "application/vnd.jupyter.widget-view+json": {
              "version_major": 2,
              "version_minor": 0,
              "model_id": "2cf06bb4cfc343099da80517bd9d8626"
            }
          },
          "metadata": {}
        },
        {
          "output_type": "display_data",
          "data": {
            "text/plain": [
              "vocab.json: 0.00B [00:00, ?B/s]"
            ],
            "application/vnd.jupyter.widget-view+json": {
              "version_major": 2,
              "version_minor": 0,
              "model_id": "6d389e96af49488098c912c550b77892"
            }
          },
          "metadata": {}
        },
        {
          "output_type": "display_data",
          "data": {
            "text/plain": [
              "merges.txt: 0.00B [00:00, ?B/s]"
            ],
            "application/vnd.jupyter.widget-view+json": {
              "version_major": 2,
              "version_minor": 0,
              "model_id": "5f49df53f49b4de0b9fdcd4e779d9b3e"
            }
          },
          "metadata": {}
        },
        {
          "output_type": "display_data",
          "data": {
            "text/plain": [
              "tokenizer.json: 0.00B [00:00, ?B/s]"
            ],
            "application/vnd.jupyter.widget-view+json": {
              "version_major": 2,
              "version_minor": 0,
              "model_id": "97c81342112040aa989412be9019cf41"
            }
          },
          "metadata": {}
        },
        {
          "output_type": "stream",
          "name": "stderr",
          "text": [
            "Device set to use cpu\n"
          ]
        },
        {
          "output_type": "stream",
          "name": "stdout",
          "text": [
            "facebook/bart-large-cnn\n"
          ]
        }
      ]
    },
    {
      "cell_type": "code",
      "source": [
        "tokenizer2 = AutoTokenizer.from_pretrained(model2)\n",
        "token2 = tokenizer2.tokenize(fullarticle)\n",
        "print(len(token2))"
      ],
      "metadata": {
        "colab": {
          "base_uri": "https://localhost:8080/"
        },
        "id": "jIMKO_fYDuMQ",
        "outputId": "db9f8a6a-033f-4c58-c227-b0b9a7b4a117"
      },
      "execution_count": null,
      "outputs": [
        {
          "output_type": "stream",
          "name": "stdout",
          "text": [
            "626\n"
          ]
        }
      ]
    },
    {
      "cell_type": "code",
      "source": [
        "summary_by_bart = another_summarize(fullarticle)"
      ],
      "metadata": {
        "id": "VdB_7y0LEkzv"
      },
      "execution_count": null,
      "outputs": []
    },
    {
      "cell_type": "code",
      "source": [
        "print(\"\\n\".join(textwrap.wrap(summary_by_bart[0]['summary_text'])))"
      ],
      "metadata": {
        "colab": {
          "base_uri": "https://localhost:8080/"
        },
        "id": "tFfv6uLdEvTP",
        "outputId": "9d2ff484-cb23-41eb-ddbe-084335dc3361"
      },
      "execution_count": null,
      "outputs": [
        {
          "output_type": "stream",
          "name": "stdout",
          "text": [
            "\"The Theory of Everything\" stars Eddie Redmayne and Felicity Jones.\n",
            "The film tells the story of Stephen Hawking and his relationship with\n",
            "his wife, Jane. Stephen Hawking is diagnosed with Motor Neuron Disease\n",
            "(ALS) and has only two years to live. He develops revolutionary\n",
            "theories about black holes, the origin of the universe and \"Hawking\n",
            "radiation\"\n"
          ]
        }
      ]
    },
    {
      "cell_type": "code",
      "source": [
        "from transformers import pipeline\n",
        "from transformers import AutoTokenizer"
      ],
      "metadata": {
        "id": "e5WbEddJOyE3"
      },
      "execution_count": null,
      "outputs": []
    },
    {
      "cell_type": "code",
      "source": [
        "summarize = pipeline('summarization')\n",
        "model = summarize.model.name_or_path\n",
        "print(model) # Default model"
      ],
      "metadata": {
        "colab": {
          "base_uri": "https://localhost:8080/"
        },
        "outputId": "1ed605b5-3c34-4873-c6f0-9705e45295ea",
        "id": "mXLM-AhhOyE3"
      },
      "execution_count": null,
      "outputs": [
        {
          "output_type": "stream",
          "name": "stderr",
          "text": [
            "No model was supplied, defaulted to sshleifer/distilbart-cnn-12-6 and revision a4f8f3e (https://huggingface.co/sshleifer/distilbart-cnn-12-6).\n",
            "Using a pipeline without specifying a model name and revision in production is not recommended.\n",
            "Device set to use cpu\n"
          ]
        },
        {
          "output_type": "stream",
          "name": "stdout",
          "text": [
            "sshleifer/distilbart-cnn-12-6\n"
          ]
        }
      ]
    },
    {
      "cell_type": "code",
      "source": [
        "fullarticle = '''\n",
        "The Theory of Everything\n",
        "The film opens at the University of Cambridge in 1963, where Stephen Hawking (Eddie Redmayne), a brilliant but awkward cosmology student, meets Jane Wilde (Felicity Jones), a bright and devout student of literature. Despite their contrasting worldviews—science versus faith—the two fall deeply in love. Their relationship blossoms amidst the intellectual vibrancy of Cambridge, with a bright and promising future seemingly ahead of them.\n",
        "\n",
        "However, their world takes a devastating turn when Stephen begins to show symptoms of muscle weakness, culminating in a severe fall. He is diagnosed with Motor Neuron Disease (ALS) and given a shocking prognosis: he has only two years to live. As his world crumbles, Stephen tries to push Jane away to spare her the burden of his illness. But with unwavering love and determination, Jane insists on staying by his side to fight with him. They decide to marry, stepping into an uncertain future guided by their powerful commitment to one another.\n",
        "\n",
        "The film masterfully portrays the astonishing contrast between Stephen's body and mind. While his physical condition deteriorates progressively—moving from canes to a wheelchair and eventually losing his ability to speak—the universe within his mind expands infinitely. He develops revolutionary theories about black holes, the origin of the universe, and \"Hawking radiation,\" which establish him as one of the greatest scientific minds of his time.\n",
        "\n",
        "Behind this success lies Jane’s own heroic struggle. She navigates the immense challenges of being a wife, a mother to their three children, and a full-time caregiver. Her exhaustion and isolation lead her to find support in Jonathan Hellyer Jones, a local church choir director who becomes a kind family friend and a source of comfort for Jane. Meanwhile, after a life-saving tracheotomy costs Stephen his voice completely, he is introduced to a new nurse, Elaine Mason, who helps him communicate with the world again through his now-iconic computer-generated voice.\n",
        "\n",
        "The complex and evolving nature of their relationships eventually leads to a painful but mutual decision. Stephen and Jane agree to separate amicably, allowing each to pursue a new path. Stephen begins a new life with Elaine, while Jane finds happiness with Jonathan.\n",
        "\n",
        "In the end, Stephen, now a global icon following the publication of his book \"A Brief History of Time,\" invites Jane to accompany him to meet the Queen. In a beautiful garden, they look upon their grown children, and Stephen says through his synthesizer, \"Look what we made.\" This single line encapsulates their entire journey. The film closes by rewinding through their life together, all the way back to the moment they first met, reminding the audience that while time moves forward, the bond they forged and the legacy they created are eternal. \"The Theory of Everything\" is ultimately not just a story of a brilliant physicist, but an epic tale of love, sacrifice, and the profound power of the human will to transcend physical limitations.\n",
        "'''"
      ],
      "metadata": {
        "id": "jROJZMPzOyE4"
      },
      "execution_count": null,
      "outputs": []
    },
    {
      "cell_type": "code",
      "source": [
        "# initiate tokenizer for token counting\n",
        "tokenizer = AutoTokenizer.from_pretrained(model) # Parameter is string name's model"
      ],
      "metadata": {
        "id": "FvgcQiGzOyE4"
      },
      "execution_count": null,
      "outputs": []
    },
    {
      "cell_type": "code",
      "source": [
        "# Count the token for the full article\n",
        "token = tokenizer(fullarticle)\n",
        "print(token)"
      ],
      "metadata": {
        "colab": {
          "base_uri": "https://localhost:8080/"
        },
        "outputId": "f77bd5d3-1746-4893-d1ae-0c028831823b",
        "id": "WqMk9LBxOyE4"
      },
      "execution_count": null,
      "outputs": [
        {
          "output_type": "stream",
          "name": "stdout",
          "text": [
            "{'input_ids': [0, 50118, 133, 26305, 9, 9567, 50118, 133, 822, 5699, 23, 5, 589, 9, 6912, 11, 18733, 6, 147, 3259, 27604, 36, 717, 16134, 324, 1211, 12488, 858, 238, 10, 6967, 53, 11789, 12793, 40006, 1294, 6, 6616, 7343, 33941, 36, 39611, 24414, 1454, 238, 10, 4520, 8, 36906, 1294, 9, 13144, 4, 2285, 49, 31003, 35302, 29, 578, 33749, 4411, 3975, 578, 627, 80, 1136, 4814, 11, 657, 4, 2667, 1291, 25734, 6806, 24018, 5, 9594, 23338, 3917, 4469, 9, 6912, 6, 19, 10, 4520, 8, 6177, 499, 6590, 789, 9, 106, 4, 50118, 50118, 10462, 6, 49, 232, 1239, 10, 7360, 1004, 77, 3259, 3772, 7, 311, 5298, 9, 8698, 8269, 6, 29681, 11, 10, 3814, 1136, 4, 91, 16, 6443, 19, 5512, 3864, 39508, 11817, 36, 19569, 43, 8, 576, 10, 8777, 17618, 32444, 35, 37, 34, 129, 80, 107, 7, 697, 4, 287, 39, 232, 3977, 19229, 6, 3259, 5741, 7, 1920, 7343, 409, 7, 10628, 69, 5, 6976, 9, 39, 5467, 4, 125, 19, 10963, 28031, 657, 8, 8964, 6, 7343, 9838, 15, 4959, 30, 39, 526, 7, 1032, 19, 123, 4, 252, 2845, 7, 12908, 6, 8296, 88, 41, 9684, 499, 10346, 30, 49, 2247, 2720, 7, 65, 277, 4, 50118, 50118, 133, 822, 4710, 6459, 29565, 5, 19720, 5709, 227, 3259, 18, 809, 8, 1508, 4, 616, 39, 2166, 1881, 26694, 1626, 32080, 578, 19838, 31, 64, 293, 7, 10, 14298, 8, 2140, 2086, 39, 1460, 7, 1994, 578, 627, 9468, 624, 39, 1508, 20539, 40489, 4, 91, 12626, 16097, 14831, 59, 909, 6538, 6, 5, 9813, 9, 5, 9468, 6, 8, 22, 32152, 7037, 13785, 60, 61, 5242, 123, 25, 65, 9, 5, 3968, 6441, 7283, 9, 39, 86, 4, 50118, 50118, 43414, 42, 1282, 5738, 7343, 17, 27, 29, 308, 24666, 3860, 4, 264, 24708, 1626, 5, 14151, 2019, 9, 145, 10, 1141, 6, 10, 985, 7, 49, 130, 408, 6, 8, 10, 455, 12, 958, 31745, 8538, 4, 1405, 30567, 8, 13084, 483, 69, 7, 465, 323, 11, 4167, 11141, 6426, 1454, 6, 10, 400, 2352, 18558, 736, 54, 3374, 10, 761, 284, 1441, 8, 10, 1300, 9, 5863, 13, 7343, 4, 2276, 6, 71, 10, 301, 12, 15999, 2664, 7374, 40139, 1042, 3259, 39, 2236, 2198, 6, 37, 16, 2942, 7, 10, 92, 9008, 6, 19310, 7332, 6, 54, 2607, 123, 8469, 19, 5, 232, 456, 149, 39, 122, 12, 17505, 636, 3034, 12, 21842, 2236, 4, 50118, 50118, 133, 2632, 8, 14007, 2574, 9, 49, 4158, 2140, 3315, 7, 10, 8661, 53, 7628, 568, 4, 3259, 8, 7343, 2854, 7, 2559, 524, 31249, 6, 2455, 349, 7, 5445, 10, 92, 2718, 4, 3259, 3772, 10, 92, 301, 19, 19310, 6, 150, 7343, 5684, 11098, 19, 4167, 4, 50118, 50118, 1121, 5, 253, 6, 3259, 6, 122, 10, 720, 9360, 511, 5, 5362, 9, 39, 1040, 22, 250, 14201, 7298, 9, 3421, 60, 19101, 7343, 7, 20453, 123, 7, 972, 5, 3929, 4, 96, 10, 2721, 5671, 6, 51, 356, 2115, 49, 3831, 408, 6, 8, 3259, 161, 149, 39, 33689, 6315, 6, 22, 15833, 99, 52, 156, 72, 152, 881, 516, 32831, 15719, 49, 1445, 3251, 4, 20, 822, 14454, 30, 769, 605, 24088, 149, 49, 301, 561, 6, 70, 5, 169, 124, 7, 5, 1151, 51, 78, 1145, 6, 19327, 5, 2437, 14, 150, 86, 3136, 556, 6, 5, 2175, 51, 17695, 8, 5, 5184, 51, 1412, 32, 25023, 4, 22, 133, 26305, 9, 9567, 113, 16, 3284, 45, 95, 10, 527, 9, 10, 6967, 33832, 6, 53, 41, 9066, 10390, 9, 657, 6, 9802, 6, 8, 5, 13960, 476, 9, 5, 1050, 40, 7, 32539, 2166, 11948, 4, 50118, 1437, 1437, 1437, 1437, 1437, 1437, 1437, 1437, 1437, 1437, 1437, 1437, 1437, 1437, 2], 'attention_mask': [1, 1, 1, 1, 1, 1, 1, 1, 1, 1, 1, 1, 1, 1, 1, 1, 1, 1, 1, 1, 1, 1, 1, 1, 1, 1, 1, 1, 1, 1, 1, 1, 1, 1, 1, 1, 1, 1, 1, 1, 1, 1, 1, 1, 1, 1, 1, 1, 1, 1, 1, 1, 1, 1, 1, 1, 1, 1, 1, 1, 1, 1, 1, 1, 1, 1, 1, 1, 1, 1, 1, 1, 1, 1, 1, 1, 1, 1, 1, 1, 1, 1, 1, 1, 1, 1, 1, 1, 1, 1, 1, 1, 1, 1, 1, 1, 1, 1, 1, 1, 1, 1, 1, 1, 1, 1, 1, 1, 1, 1, 1, 1, 1, 1, 1, 1, 1, 1, 1, 1, 1, 1, 1, 1, 1, 1, 1, 1, 1, 1, 1, 1, 1, 1, 1, 1, 1, 1, 1, 1, 1, 1, 1, 1, 1, 1, 1, 1, 1, 1, 1, 1, 1, 1, 1, 1, 1, 1, 1, 1, 1, 1, 1, 1, 1, 1, 1, 1, 1, 1, 1, 1, 1, 1, 1, 1, 1, 1, 1, 1, 1, 1, 1, 1, 1, 1, 1, 1, 1, 1, 1, 1, 1, 1, 1, 1, 1, 1, 1, 1, 1, 1, 1, 1, 1, 1, 1, 1, 1, 1, 1, 1, 1, 1, 1, 1, 1, 1, 1, 1, 1, 1, 1, 1, 1, 1, 1, 1, 1, 1, 1, 1, 1, 1, 1, 1, 1, 1, 1, 1, 1, 1, 1, 1, 1, 1, 1, 1, 1, 1, 1, 1, 1, 1, 1, 1, 1, 1, 1, 1, 1, 1, 1, 1, 1, 1, 1, 1, 1, 1, 1, 1, 1, 1, 1, 1, 1, 1, 1, 1, 1, 1, 1, 1, 1, 1, 1, 1, 1, 1, 1, 1, 1, 1, 1, 1, 1, 1, 1, 1, 1, 1, 1, 1, 1, 1, 1, 1, 1, 1, 1, 1, 1, 1, 1, 1, 1, 1, 1, 1, 1, 1, 1, 1, 1, 1, 1, 1, 1, 1, 1, 1, 1, 1, 1, 1, 1, 1, 1, 1, 1, 1, 1, 1, 1, 1, 1, 1, 1, 1, 1, 1, 1, 1, 1, 1, 1, 1, 1, 1, 1, 1, 1, 1, 1, 1, 1, 1, 1, 1, 1, 1, 1, 1, 1, 1, 1, 1, 1, 1, 1, 1, 1, 1, 1, 1, 1, 1, 1, 1, 1, 1, 1, 1, 1, 1, 1, 1, 1, 1, 1, 1, 1, 1, 1, 1, 1, 1, 1, 1, 1, 1, 1, 1, 1, 1, 1, 1, 1, 1, 1, 1, 1, 1, 1, 1, 1, 1, 1, 1, 1, 1, 1, 1, 1, 1, 1, 1, 1, 1, 1, 1, 1, 1, 1, 1, 1, 1, 1, 1, 1, 1, 1, 1, 1, 1, 1, 1, 1, 1, 1, 1, 1, 1, 1, 1, 1, 1, 1, 1, 1, 1, 1, 1, 1, 1, 1, 1, 1, 1, 1, 1, 1, 1, 1, 1, 1, 1, 1, 1, 1, 1, 1, 1, 1, 1, 1, 1, 1, 1, 1, 1, 1, 1, 1, 1, 1, 1, 1, 1, 1, 1, 1, 1, 1, 1, 1, 1, 1, 1, 1, 1, 1, 1, 1, 1, 1, 1, 1, 1, 1, 1, 1, 1, 1, 1, 1, 1, 1, 1, 1, 1, 1, 1, 1, 1, 1, 1, 1, 1, 1, 1, 1, 1, 1, 1, 1, 1, 1, 1, 1, 1, 1, 1, 1, 1, 1, 1, 1, 1, 1, 1, 1, 1, 1, 1, 1, 1, 1, 1, 1, 1, 1, 1, 1, 1, 1, 1, 1, 1, 1, 1, 1, 1, 1, 1, 1, 1, 1, 1, 1, 1, 1, 1, 1, 1, 1, 1, 1, 1, 1, 1, 1, 1, 1, 1, 1, 1, 1, 1, 1, 1, 1, 1, 1, 1, 1, 1]}\n"
          ]
        }
      ]
    },
    {
      "cell_type": "code",
      "source": [
        "import textwrap\n",
        "summary = summarize(fullarticle)"
      ],
      "metadata": {
        "id": "UmLRa6o6OyE4"
      },
      "execution_count": null,
      "outputs": []
    },
    {
      "cell_type": "code",
      "source": [
        "# Try longer summarized\n",
        "longer_summary = summarize(fullarticle, min_length=100, max_length=150)"
      ],
      "metadata": {
        "id": "r4eh3ggMOyE4"
      },
      "execution_count": null,
      "outputs": []
    },
    {
      "cell_type": "code",
      "source": [
        "# Try shorter summarized\n",
        "shortest_summary = summarize(fullarticle, min_length=10, max_length=15)"
      ],
      "metadata": {
        "id": "wDFOSrRROyE4"
      },
      "execution_count": null,
      "outputs": []
    },
    {
      "cell_type": "code",
      "source": [
        "print(\"\\n\".join(textwrap.wrap(summary[0]['summary_text'])))\n",
        "print(f\"Token counting: {len(tokenizer.tokenize(summary[0]['summary_text']))}\")"
      ],
      "metadata": {
        "colab": {
          "base_uri": "https://localhost:8080/"
        },
        "outputId": "fc32c3d5-86b4-4daf-ad09-3bdfc8e6a140",
        "id": "-1G2tPzrOyE4"
      },
      "execution_count": null,
      "outputs": [
        {
          "output_type": "stream",
          "name": "stdout",
          "text": [
            " \"The Theory of Everything\" stars Eddie Redmayne and Felicity Jones .\n",
            "The film stars as Stephen Hawking, a brilliant but awkward cosmology\n",
            "student . He develops revolutionary theories about black holes, the\n",
            "origin of the universe, and \"Hawking radiation\" The film masterfully\n",
            "portrays the contrast between Stephen's body and mind .\n",
            "Token counting: 65\n"
          ]
        }
      ]
    },
    {
      "cell_type": "code",
      "source": [
        "print(\"\\n\".join(textwrap.wrap(longer_summary[0]['summary_text'])))\n",
        "print(f\"Token counting: {len(tokenizer.tokenize(longer_summary[0]['summary_text']))}\")"
      ],
      "metadata": {
        "colab": {
          "base_uri": "https://localhost:8080/"
        },
        "outputId": "7cfd0478-93c0-4f51-b936-bdee13b1d9d0",
        "id": "j_-SFLXDOyE5"
      },
      "execution_count": null,
      "outputs": [
        {
          "output_type": "stream",
          "name": "stdout",
          "text": [
            " \"The Theory of Everything\" stars Eddie Redmayne and Felicity Jones .\n",
            "The film stars as Stephen Hawking, a brilliant but awkward cosmology\n",
            "student . He develops revolutionary theories about black holes, the\n",
            "origin of the universe, and \"Hawking radiation\" He is diagnosed with\n",
            "Motor Neuron Disease (ALS) and given a shocking prognosis: he has only\n",
            "two years to live . While his physical condition deteriorates\n",
            "progressively, the universe within his mind expands infinitely . While\n",
            "Stephen tries to push Jane away to spare her the burden of his\n",
            "illness, she stays by his side to fight with him .\n",
            "Token counting: 119\n"
          ]
        }
      ]
    },
    {
      "cell_type": "code",
      "source": [
        "print(\"\\n\".join(textwrap.wrap(shortest_summary[0]['summary_text'])))\n",
        "print(f\"Token counting: {len(tokenizer.tokenize(shortest_summary[0]['summary_text']))}\")"
      ],
      "metadata": {
        "colab": {
          "base_uri": "https://localhost:8080/"
        },
        "outputId": "94fa2194-c517-4ff4-e89a-5c5c159d37e4",
        "id": "eunqZB9AOyE5"
      },
      "execution_count": null,
      "outputs": [
        {
          "output_type": "stream",
          "name": "stdout",
          "text": [
            " The Theory of Everything stars Eddie Redmayne and Felicity\n",
            "Token counting: 12\n"
          ]
        }
      ]
    },
    {
      "cell_type": "code",
      "source": [
        "# Try another model\n",
        "model2 = 'facebook/bart-large-cnn'\n",
        "another_summarize = pipeline('summarization', model=model2)\n",
        "print(another_summarize.model.name_or_path)"
      ],
      "metadata": {
        "colab": {
          "base_uri": "https://localhost:8080/",
          "height": 244,
          "referenced_widgets": [
            "58052f26ddd345b0ab1fe16c9607f5a6",
            "45e73b9c2d25454fa4c779cd1d167fe2",
            "fc340ea0457d4f4da84f4e56c3b47172",
            "882b50deac9e40cd9b256e067468fc7c",
            "8718d1560dd44fda90c052de213a1b0c",
            "4639b41ac3504b399b14a7bac9a6f1ae",
            "ac964b23897544f3935ff0f738604920",
            "c4ddc70723bf4c6698c4da7ba9748360",
            "32e8bc9f5de947aca550e846e38e0ac3",
            "1f173d3cec81431694b58c057c49f70c",
            "ed628e7615694fb881d0f23b66e70d91",
            "8da0008c17794883b2fe57ce12f9e3c5",
            "ab11da959a3e4d87b16d8e5f93d58ba0",
            "d9654bdd9ccc456da0b6788cb268a5fd",
            "08490e254a0e4f0ab408690142d40dbc",
            "f9f640cbf1bc4befb34ce66df00a38c4",
            "7b5b17a36e1b4fee9c9fb14d53a8fdea",
            "37a8a470be634c848a24c1043e071dad",
            "8828d12eb9ba4942968ae33f0758c59e",
            "8b59868479b04f029fde118543758316",
            "e701a1b321d84dc0926fc0ffed0c97e3",
            "4a9ce68f2ba843418c75d8e2e0bc05ef",
            "2cf06bb4cfc343099da80517bd9d8626",
            "37d27db81fe0422fa29d7f4a1ddda746",
            "f166528629104c22b6b281cc44b05749",
            "549528a7ce614816ac3f040a516f53d4",
            "85cba8cfb91141cfa1e26d66a2e8bb78",
            "61e395c80ab0467a9748c1b7f9b78fce",
            "be31238d2dbc480b80263ccf28e99c83",
            "6bc69440c6c84759aff9efebab4f044f",
            "8168a0a1c6064aac8d06e5acbd9a834e",
            "da7d8c76198d4549af1b6644b3e5873b",
            "aa506ba6832548b9aa40f0e629c1fb95",
            "6d389e96af49488098c912c550b77892",
            "dbb5806a1e164ee0aada284bbeedfca0",
            "61358939161c458da2899918a65fdb83",
            "0bc8bcd21a354eadace87ab58e4aaa69",
            "68d034719c8a4fb59e95ae667ac3944d",
            "f87b3033820041d48fbfb904db78d779",
            "87694b530ef745abbab4e58dbb953a98",
            "0acd7de7b65148d5b50a62249380ad24",
            "26acaac216f041aa98810c83c3e39472",
            "37930fce2c284abdb953decd80024102",
            "03860171a74a444eb206c6d02bd5fd4a",
            "5f49df53f49b4de0b9fdcd4e779d9b3e",
            "b94b2326fc234fb287a9f22886865587",
            "1a7835eb33b44ab58fe862f3c2e8c542",
            "bab472f3182a49469d723f27c763828a",
            "4cbc5cf2fd5e47b7b54ecd028533f3e0",
            "9c333693741e4596b399cf8dc640a9f8",
            "fa69e65da8ea4a12b7b92f09b17828e6",
            "a67d5d3ee7fa48feaf2c48714be780ad",
            "88096878e3744f949fd2d4f7ef237ae8",
            "7cb40c5ebd9845a3807cdc6f0d1817bf",
            "9e6f19755e8d47d6b2588f2ef84db366",
            "97c81342112040aa989412be9019cf41",
            "f360c3bdc8ff4e4da34888e61e0bb4c1",
            "c04d8b4c7d3b40b3911f8bb823182c43",
            "1220b3df1f234f2db768318a0fc0a36d",
            "f831123089f94307b5c096110eaeb967",
            "93b1a052c9b34196a6b9ab77b7c73eb4",
            "047b5fd3cd9d4bbf9dd1130440eeada5",
            "7904ab27b33a4ec993bfe45b1d217ec9",
            "74affcb0987d4d18a742f4e70a6fa3d3",
            "d36ff8dae6ef498290668f3198afd81d",
            "94b2472dd7fa4a03af99f68315aab7ea"
          ]
        },
        "outputId": "9236a032-b9a2-4cd2-ab87-bad716a3d3f6",
        "id": "nkMHJGKuOyE5"
      },
      "execution_count": null,
      "outputs": [
        {
          "output_type": "display_data",
          "data": {
            "text/plain": [
              "config.json: 0.00B [00:00, ?B/s]"
            ],
            "application/vnd.jupyter.widget-view+json": {
              "version_major": 2,
              "version_minor": 0,
              "model_id": "58052f26ddd345b0ab1fe16c9607f5a6"
            }
          },
          "metadata": {}
        },
        {
          "output_type": "display_data",
          "data": {
            "text/plain": [
              "model.safetensors:   0%|          | 0.00/1.63G [00:00<?, ?B/s]"
            ],
            "application/vnd.jupyter.widget-view+json": {
              "version_major": 2,
              "version_minor": 0,
              "model_id": "8da0008c17794883b2fe57ce12f9e3c5"
            }
          },
          "metadata": {}
        },
        {
          "output_type": "display_data",
          "data": {
            "text/plain": [
              "generation_config.json:   0%|          | 0.00/363 [00:00<?, ?B/s]"
            ],
            "application/vnd.jupyter.widget-view+json": {
              "version_major": 2,
              "version_minor": 0,
              "model_id": "2cf06bb4cfc343099da80517bd9d8626"
            }
          },
          "metadata": {}
        },
        {
          "output_type": "display_data",
          "data": {
            "text/plain": [
              "vocab.json: 0.00B [00:00, ?B/s]"
            ],
            "application/vnd.jupyter.widget-view+json": {
              "version_major": 2,
              "version_minor": 0,
              "model_id": "6d389e96af49488098c912c550b77892"
            }
          },
          "metadata": {}
        },
        {
          "output_type": "display_data",
          "data": {
            "text/plain": [
              "merges.txt: 0.00B [00:00, ?B/s]"
            ],
            "application/vnd.jupyter.widget-view+json": {
              "version_major": 2,
              "version_minor": 0,
              "model_id": "5f49df53f49b4de0b9fdcd4e779d9b3e"
            }
          },
          "metadata": {}
        },
        {
          "output_type": "display_data",
          "data": {
            "text/plain": [
              "tokenizer.json: 0.00B [00:00, ?B/s]"
            ],
            "application/vnd.jupyter.widget-view+json": {
              "version_major": 2,
              "version_minor": 0,
              "model_id": "97c81342112040aa989412be9019cf41"
            }
          },
          "metadata": {}
        },
        {
          "output_type": "stream",
          "name": "stderr",
          "text": [
            "Device set to use cpu\n"
          ]
        },
        {
          "output_type": "stream",
          "name": "stdout",
          "text": [
            "facebook/bart-large-cnn\n"
          ]
        }
      ]
    },
    {
      "cell_type": "code",
      "source": [
        "tokenizer2 = AutoTokenizer.from_pretrained(model2)\n",
        "token2 = tokenizer2.tokenize(fullarticle)\n",
        "print(len(token2))"
      ],
      "metadata": {
        "colab": {
          "base_uri": "https://localhost:8080/"
        },
        "outputId": "db9f8a6a-033f-4c58-c227-b0b9a7b4a117",
        "id": "Y_LNFgxLOyE5"
      },
      "execution_count": null,
      "outputs": [
        {
          "output_type": "stream",
          "name": "stdout",
          "text": [
            "626\n"
          ]
        }
      ]
    },
    {
      "cell_type": "code",
      "source": [
        "summary_by_bart = another_summarize(fullarticle)"
      ],
      "metadata": {
        "id": "S1VgREoCOyE5"
      },
      "execution_count": null,
      "outputs": []
    },
    {
      "cell_type": "code",
      "source": [
        "print(\"\\n\".join(textwrap.wrap(summary_by_bart[0]['summary_text'])))"
      ],
      "metadata": {
        "colab": {
          "base_uri": "https://localhost:8080/"
        },
        "outputId": "9d2ff484-cb23-41eb-ddbe-084335dc3361",
        "id": "ly2IoPCJOyE5"
      },
      "execution_count": null,
      "outputs": [
        {
          "output_type": "stream",
          "name": "stdout",
          "text": [
            "\"The Theory of Everything\" stars Eddie Redmayne and Felicity Jones.\n",
            "The film tells the story of Stephen Hawking and his relationship with\n",
            "his wife, Jane. Stephen Hawking is diagnosed with Motor Neuron Disease\n",
            "(ALS) and has only two years to live. He develops revolutionary\n",
            "theories about black holes, the origin of the universe and \"Hawking\n",
            "radiation\"\n"
          ]
        }
      ]
    }
  ]
}