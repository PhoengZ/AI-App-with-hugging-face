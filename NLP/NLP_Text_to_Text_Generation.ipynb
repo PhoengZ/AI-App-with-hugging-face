{
  "nbformat": 4,
  "nbformat_minor": 0,
  "metadata": {
    "colab": {
      "provenance": []
    },
    "kernelspec": {
      "name": "python3",
      "display_name": "Python 3"
    },
    "language_info": {
      "name": "python"
    }
  },
  "cells": [
    {
      "cell_type": "markdown",
      "source": [
        "# Text2Text Generation\n",
        "ต่างจาก Text Genration ที่แค่เติมข้อความต่อ แต่ text2text Generation ที่เป็นการสร้างข้อความที่ตอบสนองต่อ Prompt ที่เป็นคำถาม / คำสั่ง\n",
        "\n",
        "เช่น Model ที่ทำงานแบบ Encoder-Decoder\n",
        "ตัวอย่าง T5, Flan-T5"
      ],
      "metadata": {
        "id": "fYB6QGshBYJV"
      }
    },
    {
      "cell_type": "code",
      "source": [
        "from transformers import pipeline\n",
        "import textwrap"
      ],
      "metadata": {
        "id": "Py5wb4I7BtgF"
      },
      "execution_count": null,
      "outputs": []
    },
    {
      "cell_type": "code",
      "source": [
        "# Initialzie text generation type text2text\n",
        "generator = pipeline('text2text-generation')"
      ],
      "metadata": {
        "colab": {
          "base_uri": "https://localhost:8080/",
          "height": 229,
          "referenced_widgets": [
            "9f46282f2d074ecfaa8faacba516e2e7",
            "1aab60eadf1c44d1bd00d82784fd273e",
            "20fe28ce476948848fd0f615887e351a",
            "78a008a5c8164cd5bb8d42f73c301ce7",
            "0249fab9a7664b81bfbd588decac8286",
            "960032f4c3fe4a28a5b7071aac4cebba",
            "87bbbd0b970b4bb8abfedee079fa0b1d",
            "3907162b2edb41b8adb0f42454c5607d",
            "0fe0e0bed1b24e639336e7f19b6dcc15",
            "5a6763fe17f042d9ad5cd84909fe149a",
            "558e4685811240338bb0b0b6117847bb",
            "430ae515ed29453da8e61eb7da932b05",
            "96eb4b9d8fa047e5b7ed0a1a77f411a1",
            "bd117df115864b54b93f1a2ec135b45d",
            "a8c426eefed94a6da0b89907ab148cd4",
            "f9f9b821f77848d5b3924c2954551958",
            "0e3396973132423ca6479df0e259853a",
            "8e7273cf6d59454ab05a3a4f43691a5d",
            "f399c8590ee44af597704bcbd9e869c4",
            "5240d9cef224457c886f87c7c898ea9e",
            "2e8042da17374c6a8c1c511fdff1e366",
            "831550ccb10c4988a6492bd982cf2fd8",
            "ca57c1d6ea244e7f92a633b6d4d7dd46",
            "16cc6d15eb6c44e6a27c89ce64125721",
            "1367fc91703d477aa41a1dd918c226b8",
            "c54da3a1ad384f65b817f14cb991eb31",
            "aae11352cd0d4c1fbb10ac81aa1e43c0",
            "56dff8e700e54a34a88e1933150b90af",
            "9d45e3f681e9466ea6924ac4dc50c667",
            "fe450850efc046a69ce4b16aee9c4ebb",
            "9c0f1947240b43ee8366784d703e68c5",
            "e1a19667de5a451a822dccf62142ec45",
            "06b2e46b05154bb49479a376e0d49d8d",
            "66bd1fc6ed0a4aa9948117cb0b876731",
            "b83320a50fad4dcb81c17a6ee703c4dd",
            "416089b8d3db4951bcac2fc3b904e37d",
            "705bde74494c43849b97addc89de3b7d",
            "ae048294c3304483af57eb719ad5c67b",
            "1ca85de8c3794371b0beb037b82e62b2",
            "94adecd64b7d477f9ef9f7aad4e98a72",
            "7a0ec87f99174c61a9c6a2b493f54208",
            "8dbe61ca32cd4cc19856b165774ebe7c",
            "3ff7d1035eb74105b2decd3b03d14cc3",
            "b5afaf89276b44d8868741974db94d54",
            "a1a4b3c31feb47078021307661db617f",
            "4028b7fb14254996a3a2d4b58b576c30",
            "41532198442944adbf8c1572bdee0b43",
            "ee3f936d64614825bf3363077c75c226",
            "122cc1232c7f4b8999542e7d1da41952",
            "d657f1e93d224693bb0fae80dc300ac9",
            "a86144a632bd4074b2cfd48025f26a0c",
            "0984649f00f6440aba9c6768c2905b5a",
            "a0c5d658795b43c488d3a6a0ad638ab3",
            "547451cc74a94ce68d1cdfac462348bf",
            "8933f9369f61408f8037e1ab1af7c5bb"
          ]
        },
        "id": "ZJeFK5XOB8g1",
        "outputId": "cb428796-3af0-4db2-8f59-c3a77d3bf54f"
      },
      "execution_count": null,
      "outputs": [
        {
          "output_type": "stream",
          "name": "stderr",
          "text": [
            "No model was supplied, defaulted to google-t5/t5-base and revision a9723ea (https://huggingface.co/google-t5/t5-base).\n",
            "Using a pipeline without specifying a model name and revision in production is not recommended.\n"
          ]
        },
        {
          "output_type": "display_data",
          "data": {
            "text/plain": [
              "config.json: 0.00B [00:00, ?B/s]"
            ],
            "application/vnd.jupyter.widget-view+json": {
              "version_major": 2,
              "version_minor": 0,
              "model_id": "9f46282f2d074ecfaa8faacba516e2e7"
            }
          },
          "metadata": {}
        },
        {
          "output_type": "display_data",
          "data": {
            "text/plain": [
              "model.safetensors:   0%|          | 0.00/892M [00:00<?, ?B/s]"
            ],
            "application/vnd.jupyter.widget-view+json": {
              "version_major": 2,
              "version_minor": 0,
              "model_id": "430ae515ed29453da8e61eb7da932b05"
            }
          },
          "metadata": {}
        },
        {
          "output_type": "display_data",
          "data": {
            "text/plain": [
              "generation_config.json:   0%|          | 0.00/147 [00:00<?, ?B/s]"
            ],
            "application/vnd.jupyter.widget-view+json": {
              "version_major": 2,
              "version_minor": 0,
              "model_id": "ca57c1d6ea244e7f92a633b6d4d7dd46"
            }
          },
          "metadata": {}
        },
        {
          "output_type": "display_data",
          "data": {
            "text/plain": [
              "spiece.model:   0%|          | 0.00/792k [00:00<?, ?B/s]"
            ],
            "application/vnd.jupyter.widget-view+json": {
              "version_major": 2,
              "version_minor": 0,
              "model_id": "66bd1fc6ed0a4aa9948117cb0b876731"
            }
          },
          "metadata": {}
        },
        {
          "output_type": "display_data",
          "data": {
            "text/plain": [
              "tokenizer.json: 0.00B [00:00, ?B/s]"
            ],
            "application/vnd.jupyter.widget-view+json": {
              "version_major": 2,
              "version_minor": 0,
              "model_id": "a1a4b3c31feb47078021307661db617f"
            }
          },
          "metadata": {}
        },
        {
          "output_type": "stream",
          "name": "stderr",
          "text": [
            "Device set to use cpu\n"
          ]
        }
      ]
    },
    {
      "cell_type": "code",
      "source": [
        "print(generator.model.name_or_path)"
      ],
      "metadata": {
        "colab": {
          "base_uri": "https://localhost:8080/"
        },
        "id": "Yucd7dR3CDkF",
        "outputId": "40c56745-185f-41e0-9aa1-f9f1f5eecd2b"
      },
      "execution_count": null,
      "outputs": [
        {
          "output_type": "stream",
          "name": "stdout",
          "text": [
            "google-t5/t5-base\n"
          ]
        }
      ]
    },
    {
      "cell_type": "code",
      "source": [
        "prompt = [\n",
        "    \"According to legend, coffee was first discovered in Ethiopia by a goat herder named Kaldi. He noticed that his goats became incredibly energetic after eating red berries from a particular tree. Kaldi tried the berries himself and felt a surge of energy. He reported his findings to the abbot of a local monastery, who made a drink with the berries and found it kept him alert through the long hours of evening prayer. According to the legend, who first discovered coffee beans?\",\n",
        "    \"An Artificial Neural Network (ANN) is a computational model inspired by the structure and function of the human brain. It consists of interconnected processing units called 'neurons' organized in layers. Each neuron receives inputs, processes them, and passes the output to other neurons. The network 'learns' by adjusting the connection strengths (called 'weights') between these neurons during a process called 'training.' By processing a large amount of example data, the model can learn to perform specific tasks, such as image classification, language translation, or data forecasting. Summarize the main idea of this text about Artificial Neural Networks in a single sentence.\",\n",
        "    \"We are excited to announce the new 'Quantum X1' smartphone, featuring a 6.7-inch Super AMOLED display, the new Snapdragon 9 Gen 5 processor, and a 5000 mAh battery with 120W fast charging. It will be available for purchase on October 15th, with a starting price of $999.  From the provided text, extract the specifications of this phone in JSON format, including only: model_name, cpu, and battery_capacity.\"\n",
        "]"
      ],
      "metadata": {
        "id": "hGfQzM0CCHz1"
      },
      "execution_count": null,
      "outputs": []
    },
    {
      "cell_type": "code",
      "source": [
        "result = generator(prompt)"
      ],
      "metadata": {
        "id": "UDUdxGq7CzCE"
      },
      "execution_count": null,
      "outputs": []
    },
    {
      "cell_type": "code",
      "source": [
        "for i,text in enumerate(result):\n",
        "  print(\"--------------------\")\n",
        "  print(\"Input: \" + prompt[i])\n",
        "  print(\"Answer: \", text['generated_text'])\n",
        "  print(\"--------------------\")"
      ],
      "metadata": {
        "colab": {
          "base_uri": "https://localhost:8080/"
        },
        "id": "wUHOd1PcDe70",
        "outputId": "148693f7-6f96-4cea-cad8-0ec63078ef59"
      },
      "execution_count": null,
      "outputs": [
        {
          "output_type": "stream",
          "name": "stdout",
          "text": [
            "--------------------\n",
            "Input: According to legend, coffee was first discovered in Ethiopia by a goat herder named Kaldi. He noticed that his goats became incredibly energetic after eating red berries from a particular tree. Kaldi tried the berries himself and felt a surge of energy. He reported his findings to the abbot of a local monastery, who made a drink with the berries and found it kept him alert through the long hours of evening prayer. According to the legend, who first discovered coffee beans?\n",
            "Answer:  Kaldi noticed that his goats became incredibly energetic after eating red berries from a particular tree. Kaldi reported his findings to the abbot of a local monastery.\n",
            "--------------------\n",
            "--------------------\n",
            "Input: An Artificial Neural Network (ANN) is a computational model inspired by the structure and function of the human brain. It consists of interconnected processing units called 'neurons' organized in layers. Each neuron receives inputs, processes them, and passes the output to other neurons. The network 'learns' by adjusting the connection strengths (called 'weights') between these neurons during a process called 'training.' By processing a large amount of example data, the model can learn to perform specific tasks, such as image classification, language translation, or data forecasting. Summarize the main idea of this text about Artificial Neural Networks in a single sentence.\n",
            "Answer:  An Artificial Neural Network (ANN) is a computational model inspired by the structure and function of the human brain. It consists of interconnected processing units called 'neurons' organized in layers. Each neuron receives inputs, processes them, and passes the output to other neurons. By processing a large amount of example data, the model can learn to perform specific tasks, such as image classification, language translation, or data forecasting.\n",
            "--------------------\n",
            "--------------------\n",
            "Input: We are excited to announce the new 'Quantum X1' smartphone, featuring a 6.7-inch Super AMOLED display, the new Snapdragon 9 Gen 5 processor, and a 5000 mAh battery with 120W fast charging. It will be available for purchase on October 15th, with a starting price of $999.  From the provided text, extract the specifications of this phone in JSON format, including only: model_name, cpu, and battery_capacity.\n",
            "Answer:  we are excited to announce the new 'Quantum X1' smartphone, featuring a 6.7-inch Super AMOLED display, the new Snapdragon 9 Gen 5 processor, and a 5000 mAh battery with 120W fast charging.\n",
            "--------------------\n"
          ]
        }
      ]
    },
    {
      "cell_type": "code",
      "source": [
        "# From above you can see the default model can't understand well about complicated context\n",
        "# we have to use another model that larger more\n",
        "# such as Flan-T5\n",
        "model = \"google/flan-t5-xl\"\n",
        "generator = pipeline('text2text-generation',model=model)"
      ],
      "metadata": {
        "colab": {
          "base_uri": "https://localhost:8080/",
          "height": 386,
          "referenced_widgets": [
            "bfbcef97ab6843608052c712ee872caf",
            "458490c6dbf94edbb66ad0c1c6d58ca8",
            "baca5c45237a43909582fc762ffdc5da",
            "b45c4f45fd1d4edd87f83934b8dc4ff0",
            "627de3bed6194c409b9294f2173459ed",
            "566cf2c291684a358dcf12c111cc381f",
            "e2319d590f9e4658a820ead8f4308361",
            "b4ca3648261a4042a7ff7c6e37c1fcc1",
            "77b05cdcad2344d5a5963f4d5ae509ca",
            "58bbad4ee66f4707a88883f03b2f2cae",
            "eebd120c60a64f4b8365cbedf618f4dd",
            "fedbb976c1f344c3964817af769bd42e",
            "bd785f460c3a4544af08ba4f751cb0b9",
            "5c58196e7a6640e59d90c18fb3374271",
            "76ca8b00fbe14becb67e543bce1bcb70",
            "db6b6347d7bb46f2916d791011250f9c",
            "0fc9f6d7274d4a85a5c455577df41e6e",
            "7108fbc57d634d2a9aebd7614aaff051",
            "fa04bf6f6dbf4ae38de7702944e15965",
            "ba16cf8fdffd4689aeadf3f359a196af",
            "a1746ea538a74bbea932369bf5ade8ba",
            "b4fad9eb0c184dbdacd6b6b9a0ea7711",
            "441c6bb2f20e408d9546f334cdd24dba",
            "f5722a1d486c4fa98f3efe5720ab21ab",
            "745a2c06f1514776abffbc7b7ea97f8c",
            "84ff7b4bea1943b186361c85a688e4e9",
            "8a91e30cd91b406d8912e5c41b24e2f7",
            "36e7ef380a534f4586972ecb52e685b0",
            "a882bb9309a74176aa51f9eb7da7b7b1",
            "b58abc3c4f11465f9c3698af4500d744",
            "5c87241e210145b2b9202da81b1eba84",
            "32ffcac04ac24065b03d340daba4ed2f",
            "3e47719797ad4e36a13538d72643c128",
            "3f53692e65cb433b803c90c4afb33c18",
            "c6fd4aaf78614ee0bccb0bc07662bee4",
            "b06a935a084d466b8556d118d079e73e",
            "499096ea0e974512a4883a7cb6c27f19",
            "dd20d97e1e3e4ddc9bafe2dd2d0fd637",
            "474b1921e5e241cdb168d0b9ed11d334",
            "8c42bc2d36ab41ec88c6a3b5c2ce55b1",
            "f5debbffffe34648bb57ff0e596f92f0",
            "0ca70946e8dd49e3b2936d89943a4df4",
            "5ca333e550574131b602dbdb0f68fd80",
            "75c6b4d85dec4f7399bec9e99c85f645",
            "3f8f603e0f684dc49b43807718691a5b",
            "3882c333e46f437b960aae4701dc4d7a",
            "6fc182b66d534e8da05aabe1b1c40381",
            "41f67027cfc2454c8733f3e1970a83db",
            "d764b6805d404f8082bb25c0b65402b7",
            "4994b98f8ccc450cb079c14a8bf6160e",
            "3e7f70d3d5cb46d18db6be144a4e6f2b",
            "2d3dfc8848a74015b2d8d25364f653bb",
            "f5744df49fd54c479703d9fd9428c3d6",
            "55afb5470a444f38834b2ecff0e4925b",
            "1f4493bf917940f8b54b6b9df15c8066",
            "51d2c952c8064ae2b987182b6e104593",
            "3266d2d43a4a4192a89ef4c327753904",
            "b1e788542fed4a92ab5cc58b80b024f9",
            "5e98a755eef448c19552f2ecf7ffe0b0",
            "10037dc2fa4849d38a692252d315ceb8",
            "97da27ffe7cd4829bc4dfca14fa7e62a",
            "875ceb064c2148fba3cbd78a2197d13b",
            "c6fca611d4c740798782ede78ac6ff15",
            "eece22770abd423ca3a47f3efb771646",
            "f030af71294f437689f9653e9570811c",
            "d3d1ac57fc0c4c2692f3f50348c5e7f2",
            "0f7363808bcf4b2394d244e921292f74",
            "ac2e117e20a7445bb068929b2af01564",
            "ce77ea5020914ccd866ebe2f40165805",
            "adeb195685cf4c9faea417d44b49b36d",
            "041fd49f447c4641a5f7f19d29184a38",
            "c5ff95db901b48eeb720afaa685a2bfb",
            "f21ff318bf8341e9b26cc332f76f9475",
            "2118210f05d44dcb82eeb2e0af18e8cf",
            "bac0305e10594360940ad1d95abfde63",
            "e1be46efb6b14db7af3df63ca189e203",
            "b1cfb823868447e08fcbeab9732a82e8",
            "9625bec8a268437c94cf7f1ecf3c016d",
            "4dfec9098b214fd1a96b86dcdcea1a9b",
            "ff94337dc9ef425a96d91b8a6b6b8588",
            "71fb7c215ebb4ba593831c02928b2fc6",
            "687e6cf77fcf420a8587f894734a7e32",
            "ece84f0f04e94609b0aa06c0280f9356",
            "fd99d643dfc443d0a03889b684f2b537",
            "d33feda699484bb499cd7f328ed1b97d",
            "3f1752e734f04c63a85d19801073a707",
            "595299000b4f43e98d480c13ca39c6e5",
            "3f65d442c195494d8ebd9de6f3bd7c30",
            "1a16c4603d444d39b02ab296482f623f",
            "0d0ad78328054f069d320fa75dd26b40",
            "d2181ab243cf4187b96638d9b5aa752f",
            "ae3b38d6588a4c0c9c27a06f5817feed",
            "b5bbfd956a794befb801ae42e0c08564",
            "09d2480a634a4ff9a57243b9c4d801dc",
            "c2c0653bf0604cf3afae5283ab1f6878",
            "ada98183805140dabec772b694bba297",
            "02e6e0e2f4724ccb9c6fd53206503b70",
            "f6ddf8b3b57144ccabc84d97f827db95",
            "24c3291acf7849a3a42dc9a3ce2e8253",
            "184af69d12b2476c957b2a69f6874c20",
            "0dc0e0a9aecd46ae97793988fdbe1245",
            "24042f29a79648cb9e7c5df53ce31ccf",
            "76e2f240aa3748b2b88b145f8a61bf97",
            "b899b659171649eabd1b6759d455b80f",
            "ac022f4f77514ae398b6392af94b32a3",
            "85c0515d1eae48aebed8a0ce6133d28c",
            "b0ca355c8db3468f8605fbf85eb46312",
            "3daac7f60cbb447791a79d50f1547428",
            "b5ce9ac3ae9344ffb12d974321086636",
            "0f5a29b6db6e41a6b09a3cc9ab4c5157",
            "1b6a84a062b046aebd83f7642cac06f7",
            "9d5980405f554011af88ece5b6002201",
            "0123a5489d084fa79cb6b8e67f2b3c21",
            "544a6a627b734c3dbd2573a185a862c8",
            "2cfcda1f554f4957b5e30027a1377090",
            "c73373a34ec14ec2b4899d38bdfc856a",
            "bd09833e26c7444694a570953b22966a",
            "e60ae222bb98471998f84e129ec24bb1",
            "cb2b4c21fc9542a5b9f8e174c69e122d",
            "38a1c3e676204dc19af0c32b61d031a1",
            "1a06b1242ef84711b5a6ba4c4ec51289"
          ]
        },
        "id": "VZCL6_JyDxfU",
        "outputId": "de2ae22d-2be6-421b-8a7c-57c72f49784f"
      },
      "execution_count": null,
      "outputs": [
        {
          "output_type": "display_data",
          "data": {
            "text/plain": [
              "config.json: 0.00B [00:00, ?B/s]"
            ],
            "application/vnd.jupyter.widget-view+json": {
              "version_major": 2,
              "version_minor": 0,
              "model_id": "bfbcef97ab6843608052c712ee872caf"
            }
          },
          "metadata": {}
        },
        {
          "output_type": "display_data",
          "data": {
            "text/plain": [
              "model.safetensors.index.json: 0.00B [00:00, ?B/s]"
            ],
            "application/vnd.jupyter.widget-view+json": {
              "version_major": 2,
              "version_minor": 0,
              "model_id": "fedbb976c1f344c3964817af769bd42e"
            }
          },
          "metadata": {}
        },
        {
          "output_type": "display_data",
          "data": {
            "text/plain": [
              "Fetching 2 files:   0%|          | 0/2 [00:00<?, ?it/s]"
            ],
            "application/vnd.jupyter.widget-view+json": {
              "version_major": 2,
              "version_minor": 0,
              "model_id": "441c6bb2f20e408d9546f334cdd24dba"
            }
          },
          "metadata": {}
        },
        {
          "output_type": "display_data",
          "data": {
            "text/plain": [
              "model-00002-of-00002.safetensors:   0%|          | 0.00/1.95G [00:00<?, ?B/s]"
            ],
            "application/vnd.jupyter.widget-view+json": {
              "version_major": 2,
              "version_minor": 0,
              "model_id": "3f53692e65cb433b803c90c4afb33c18"
            }
          },
          "metadata": {}
        },
        {
          "output_type": "display_data",
          "data": {
            "text/plain": [
              "model-00001-of-00002.safetensors:   0%|          | 0.00/9.45G [00:00<?, ?B/s]"
            ],
            "application/vnd.jupyter.widget-view+json": {
              "version_major": 2,
              "version_minor": 0,
              "model_id": "3f8f603e0f684dc49b43807718691a5b"
            }
          },
          "metadata": {}
        },
        {
          "output_type": "display_data",
          "data": {
            "text/plain": [
              "Loading checkpoint shards:   0%|          | 0/2 [00:00<?, ?it/s]"
            ],
            "application/vnd.jupyter.widget-view+json": {
              "version_major": 2,
              "version_minor": 0,
              "model_id": "51d2c952c8064ae2b987182b6e104593"
            }
          },
          "metadata": {}
        },
        {
          "output_type": "display_data",
          "data": {
            "text/plain": [
              "generation_config.json:   0%|          | 0.00/147 [00:00<?, ?B/s]"
            ],
            "application/vnd.jupyter.widget-view+json": {
              "version_major": 2,
              "version_minor": 0,
              "model_id": "0f7363808bcf4b2394d244e921292f74"
            }
          },
          "metadata": {}
        },
        {
          "output_type": "display_data",
          "data": {
            "text/plain": [
              "tokenizer_config.json: 0.00B [00:00, ?B/s]"
            ],
            "application/vnd.jupyter.widget-view+json": {
              "version_major": 2,
              "version_minor": 0,
              "model_id": "9625bec8a268437c94cf7f1ecf3c016d"
            }
          },
          "metadata": {}
        },
        {
          "output_type": "display_data",
          "data": {
            "text/plain": [
              "spiece.model:   0%|          | 0.00/792k [00:00<?, ?B/s]"
            ],
            "application/vnd.jupyter.widget-view+json": {
              "version_major": 2,
              "version_minor": 0,
              "model_id": "1a16c4603d444d39b02ab296482f623f"
            }
          },
          "metadata": {}
        },
        {
          "output_type": "display_data",
          "data": {
            "text/plain": [
              "tokenizer.json: 0.00B [00:00, ?B/s]"
            ],
            "application/vnd.jupyter.widget-view+json": {
              "version_major": 2,
              "version_minor": 0,
              "model_id": "184af69d12b2476c957b2a69f6874c20"
            }
          },
          "metadata": {}
        },
        {
          "output_type": "display_data",
          "data": {
            "text/plain": [
              "special_tokens_map.json: 0.00B [00:00, ?B/s]"
            ],
            "application/vnd.jupyter.widget-view+json": {
              "version_major": 2,
              "version_minor": 0,
              "model_id": "1b6a84a062b046aebd83f7642cac06f7"
            }
          },
          "metadata": {}
        },
        {
          "output_type": "stream",
          "name": "stderr",
          "text": [
            "Device set to use cpu\n"
          ]
        }
      ]
    },
    {
      "cell_type": "code",
      "source": [
        "print(generator.model.name_or_path)"
      ],
      "metadata": {
        "colab": {
          "base_uri": "https://localhost:8080/"
        },
        "id": "qL8b1eM8FEr0",
        "outputId": "f36f874c-616b-4a90-a89e-deca3cf71fc1"
      },
      "execution_count": null,
      "outputs": [
        {
          "output_type": "stream",
          "name": "stdout",
          "text": [
            "google/flan-t5-xl\n"
          ]
        }
      ]
    },
    {
      "cell_type": "code",
      "source": [
        "result = generator(prompt)"
      ],
      "metadata": {
        "id": "UL52BCq8FHq8"
      },
      "execution_count": null,
      "outputs": []
    },
    {
      "cell_type": "code",
      "source": [
        "for i,text in enumerate(result):\n",
        "  print(\"--------------------\")\n",
        "  print(\"Input: \" + prompt[i])\n",
        "  print(\"Answer: \", text['generated_text'])\n",
        "  print(\"--------------------\")"
      ],
      "metadata": {
        "colab": {
          "base_uri": "https://localhost:8080/"
        },
        "id": "oW9aJkpEGdaz",
        "outputId": "81661e45-af14-460a-cc24-0c505753645c"
      },
      "execution_count": null,
      "outputs": [
        {
          "output_type": "stream",
          "name": "stdout",
          "text": [
            "--------------------\n",
            "Input: According to legend, coffee was first discovered in Ethiopia by a goat herder named Kaldi. He noticed that his goats became incredibly energetic after eating red berries from a particular tree. Kaldi tried the berries himself and felt a surge of energy. He reported his findings to the abbot of a local monastery, who made a drink with the berries and found it kept him alert through the long hours of evening prayer. According to the legend, who first discovered coffee beans?\n",
            "Answer:  Kaldi\n",
            "--------------------\n",
            "--------------------\n",
            "Input: An Artificial Neural Network (ANN) is a computational model inspired by the structure and function of the human brain. It consists of interconnected processing units called 'neurons' organized in layers. Each neuron receives inputs, processes them, and passes the output to other neurons. The network 'learns' by adjusting the connection strengths (called 'weights') between these neurons during a process called 'training.' By processing a large amount of example data, the model can learn to perform specific tasks, such as image classification, language translation, or data forecasting. Summarize the main idea of this text about Artificial Neural Networks in a single sentence.\n",
            "Answer:  An Artificial Neural Network (ANN) is a computational model inspired by the structure and function of the human brain. It consists of interconnected processing units called 'neurons' organized in layers. Each neuron receives inputs, processes them, and passes the output to other neurons. The network 'learns' by adjusting the connection strengths (called 'weights') between these neurons during a process called 'training.' By processing a large amount of example data, the model can learn to perform specific tasks, such as image classification, language translation, or data forecasting.\n",
            "--------------------\n",
            "--------------------\n",
            "Input: We are excited to announce the new 'Quantum X1' smartphone, featuring a 6.7-inch Super AMOLED display, the new Snapdragon 9 Gen 5 processor, and a 5000 mAh battery with 120W fast charging. It will be available for purchase on October 15th, with a starting price of $999.  From the provided text, extract the specifications of this phone in JSON format, including only: model_name, cpu, and battery_capacity.\n",
            "Answer:  Quantum X1 cpu: Snapdragon 9 Gen 5 Quantum X1 battery_capacity: 5000 mAh Quantum X1 display: Super AMOLED Quantum X1 price: $999\n",
            "--------------------\n"
          ]
        }
      ]
    },
    {
      "cell_type": "code",
      "source": [
        "# If the answer was truncated you can assign min_length and max_length\n",
        "# And also defined do_sample to False to prevent the answer was replicated"
      ],
      "metadata": {
        "id": "jAd6olooHhOy"
      },
      "execution_count": null,
      "outputs": []
    },
    {
      "cell_type": "code",
      "source": [
        "result = generator(prompt, do_sample=False, min_length=10)"
      ],
      "metadata": {
        "id": "0bjLCyYjHuvJ"
      },
      "execution_count": null,
      "outputs": []
    }
  ]
}