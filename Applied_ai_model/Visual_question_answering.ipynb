{
  "nbformat": 4,
  "nbformat_minor": 0,
  "metadata": {
    "colab": {
      "provenance": [],
      "gpuType": "T4"
    },
    "kernelspec": {
      "name": "python3",
      "display_name": "Python 3"
    },
    "language_info": {
      "name": "python"
    },
    "accelerator": "GPU"
  },
  "cells": [
    {
      "cell_type": "markdown",
      "source": [
        "**Visual Question Answering (VQA)**  \n",
        "ใช้ในการทำความเข้าใจภาพและเข้าใจภาษาไปพร้อมๆกันทำให้ สามารถตอบคำถามได้\n",
        "สามารถไป Applied ได้กับหลายสถานการณ์เช่น\n",
        "\n",
        "\n",
        "1.   ระบบผู้ช่วยอัจฉริยะ\n",
        "2.   ระบบตรวจสอบความถูกต้องของเอกสาร\n",
        "3.   หุ่นยนต์อัจฉริยะ\n",
        "\n",
        "Model ที่มักใช้เช่น BLIP เช่นเดียวกับ Image-Captioning เพราะสามารถเข้าใจได้ทั้งภาพและภาษามนุษย์\n"
      ],
      "metadata": {
        "id": "0Wq791oFkPWz"
      }
    },
    {
      "cell_type": "code",
      "execution_count": null,
      "metadata": {
        "id": "NOCFBORSkL33"
      },
      "outputs": [],
      "source": [
        "# !pip install transformers torch pillow"
      ]
    },
    {
      "cell_type": "code",
      "source": [
        "from PIL import Image\n",
        "import matplotlib.pyplot as plt"
      ],
      "metadata": {
        "id": "7N9IV-4qlUug"
      },
      "execution_count": null,
      "outputs": []
    },
    {
      "cell_type": "code",
      "source": [
        "!wget https://www.vets4pets.com/siteassets/species/cat/two-cats-on-wall-in-sun.jpg -O cats.jpg\n",
        "!wget https://www.worldanimalprotection.ca/cdn-cgi/image/width=1280,format=auto/siteassets/shutterstock_481623085.jpg -O cows.jpg\n",
        "!wget https://supertails.com/cdn/shop/articles/1c3a0644-1ffb-4641-b2ea-5483b4ada874_520x500_a001116b-8f20-4bef-8b4c-2a57a1882223.webp?v=1734423067 -O dogs.jpg"
      ],
      "metadata": {
        "id": "_1arZWlOlHHw"
      },
      "execution_count": null,
      "outputs": []
    },
    {
      "cell_type": "code",
      "source": [
        "# Load model directly\n",
        "from transformers import AutoProcessor, AutoModelForVisualQuestionAnswering\n",
        "\n",
        "processor = AutoProcessor.from_pretrained(\"Salesforce/blip-vqa-capfilt-large\")\n",
        "model = AutoModelForVisualQuestionAnswering.from_pretrained(\"Salesforce/blip-vqa-capfilt-large\")"
      ],
      "metadata": {
        "id": "RPP5W3Cmlb-A"
      },
      "execution_count": null,
      "outputs": []
    },
    {
      "cell_type": "markdown",
      "source": [
        "**ถ้าต้องการใช้งาน Model แบบที่สามารถ Edit, เตรียม Input ภาพเองดังนั้นการ โหลด Model โดยตรงจะเหมาะสมกว่า**"
      ],
      "metadata": {
        "id": "P_BxsdO0lrvP"
      }
    },
    {
      "cell_type": "code",
      "source": [
        "image = Image.open('cows.jpg')\n",
        "plt.imshow(image)\n",
        "plt.show()"
      ],
      "metadata": {
        "id": "Qyq2kI2dlrjY"
      },
      "execution_count": null,
      "outputs": []
    },
    {
      "cell_type": "code",
      "source": [
        "question = \"What is in the image ?\" # model ไม่ได้รองรับภาษาไทย"
      ],
      "metadata": {
        "id": "n0jOn-P9mDAH"
      },
      "execution_count": null,
      "outputs": []
    },
    {
      "cell_type": "code",
      "source": [
        "inputs = processor(images=image, text=question, return_tensors='pt')"
      ],
      "metadata": {
        "id": "eGrv7xtnmKhe"
      },
      "execution_count": null,
      "outputs": []
    },
    {
      "cell_type": "code",
      "source": [
        "outputs = model.generate(**inputs)"
      ],
      "metadata": {
        "id": "tZZSY3AmmPpW"
      },
      "execution_count": null,
      "outputs": []
    },
    {
      "cell_type": "code",
      "source": [
        "print(outputs)"
      ],
      "metadata": {
        "id": "31mYqPTDmR6O"
      },
      "execution_count": null,
      "outputs": []
    },
    {
      "cell_type": "code",
      "source": [
        "# Decode outputs before using\n",
        "def get_decode_result(outputs):\n",
        "  return processor.decode(outputs[0], skip_special_tokens=True)\n",
        "result = get_decode_result(outputs)"
      ],
      "metadata": {
        "id": "6EFMb4e9mXyf"
      },
      "execution_count": null,
      "outputs": []
    },
    {
      "cell_type": "code",
      "source": [
        "print(result)"
      ],
      "metadata": {
        "id": "RB7dqNk7mhpf"
      },
      "execution_count": null,
      "outputs": []
    },
    {
      "cell_type": "code",
      "source": [
        "question = \"How many cows in the image?\"\n",
        "inputs = processor(images=image, text=question, return_tensors='pt')\n",
        "outputs = model.generate(**inputs)"
      ],
      "metadata": {
        "id": "5HNDa7jjmiqW"
      },
      "execution_count": null,
      "outputs": []
    },
    {
      "cell_type": "code",
      "source": [
        "result = get_decode_result(outputs)\n",
        "print(result)"
      ],
      "metadata": {
        "id": "NZ3d5Y3Fmlum"
      },
      "execution_count": null,
      "outputs": []
    },
    {
      "cell_type": "code",
      "source": [
        "# try to ask Academic question\n",
        "question = \"What is the purpose of a pen in a farm setting\"\n",
        "inputs = processor(images=image, text=question, return_tensors='pt')\n",
        "outputs = model.generate(**inputs)\n",
        "result = get_decode_result(outputs)\n",
        "print(result)"
      ],
      "metadata": {
        "id": "WumSyVMnnCTf"
      },
      "execution_count": null,
      "outputs": []
    },
    {
      "cell_type": "code",
      "source": [
        "# try to ask creative question\n",
        "question = \"If you are a writer to draw a story from this image, what would you name the title\"\n",
        "inputs = processor(images=image, text=question, return_tensors='pt')\n",
        "outputs = model.generate(**inputs)\n",
        "result = get_decode_result(outputs)\n",
        "print(result)"
      ],
      "metadata": {
        "id": "EK87ExnknjiG"
      },
      "execution_count": null,
      "outputs": []
    },
    {
      "cell_type": "code",
      "source": [
        "# try to ask thai question\n",
        "question = \"มีวัวมั้ย ?\"\n",
        "inputs = processor(images=image, text=question, return_tensors='pt')\n",
        "outputs = model.generate(**inputs)\n",
        "result = get_decode_result(outputs)\n",
        "print(result)"
      ],
      "metadata": {
        "id": "lBHI6aHkn6VX"
      },
      "execution_count": null,
      "outputs": []
    },
    {
      "cell_type": "code",
      "source": [
        "# if you want to ask that question have to change model to\n",
        "# Load model directly\n",
        "from transformers import AutoProcessor, AutoModelForVision2Seq\n",
        "\n",
        "processor = AutoProcessor.from_pretrained(\"kkatiz/THAI-BLIP-2\")\n",
        "model = AutoModelForVision2Seq.from_pretrained(\"kkatiz/THAI-BLIP-2\")"
      ],
      "metadata": {
        "id": "OzY9KyWpoCdG"
      },
      "execution_count": null,
      "outputs": []
    },
    {
      "cell_type": "code",
      "source": [
        "# try to ask thai question again\n",
        "question = \"มีวัวมั้ย ?\"\n",
        "inputs = processor(images=image, text=question, return_tensors='pt')\n",
        "outputs = model.generate(**inputs)\n",
        "result = get_decode_result(outputs)\n",
        "print(result)"
      ],
      "metadata": {
        "id": "C_wvkDVEoNe3"
      },
      "execution_count": null,
      "outputs": []
    }
  ]
}