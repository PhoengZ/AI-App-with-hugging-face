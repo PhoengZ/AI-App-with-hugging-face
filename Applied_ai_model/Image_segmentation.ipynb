{
  "nbformat": 4,
  "nbformat_minor": 0,
  "metadata": {
    "colab": {
      "provenance": [],
      "gpuType": "T4"
    },
    "kernelspec": {
      "name": "python3",
      "display_name": "Python 3"
    },
    "language_info": {
      "name": "python"
    },
    "accelerator": "GPU"
  },
  "cells": [
    {
      "cell_type": "markdown",
      "source": [
        "# Image segmentation\n",
        "ต่างกับ Object detection คือมีความละเอียดมากกว่าเพราะสามารถบอกว่าวัตถุนั้นคืออะไร ในระดับ Pixel ซึ่งจะระบายสีตามแต่ละ object ไม่ได้เป็นการตีกรอบเหมือน Object detection\n",
        "เช่น Model SAM, SlimSAM (ใช้บนอุปกรณ์ที่ทรัพยากรจำกัดได้)"
      ],
      "metadata": {
        "id": "USsGvI6Uts2u"
      }
    },
    {
      "cell_type": "code",
      "source": [
        "from PIL import Image\n",
        "import matplotlib.pyplot as plt\n",
        "from transformers import pipeline"
      ],
      "metadata": {
        "id": "jFTWZkyZt7gZ"
      },
      "execution_count": null,
      "outputs": []
    },
    {
      "cell_type": "code",
      "source": [
        "model = 'Zigeng/SlimSAM-uniform-77'\n",
        "seg_pipe = pipeline('mask-generation', model=model)"
      ],
      "metadata": {
        "collapsed": true,
        "id": "AIbI7TOJwojy"
      },
      "execution_count": null,
      "outputs": []
    },
    {
      "cell_type": "code",
      "source": [
        "!wget https://media.wired.com/photos/593256b42a990b06268a9e21/master/pass/traffic-jam-getty.jpg -O cars.jpg"
      ],
      "metadata": {
        "collapsed": true,
        "id": "B4YIBtk1xp4A"
      },
      "execution_count": null,
      "outputs": []
    },
    {
      "cell_type": "code",
      "source": [
        "image = Image.open('cars.jpg')\n",
        "plt.imshow(image)\n",
        "plt.show()"
      ],
      "metadata": {
        "id": "TY7Y0yToySLI"
      },
      "execution_count": null,
      "outputs": []
    },
    {
      "cell_type": "code",
      "source": [
        "result = seg_pipe(image)\n",
        "result"
      ],
      "metadata": {
        "collapsed": true,
        "id": "i_T5Fw_c2LxB"
      },
      "execution_count": null,
      "outputs": []
    },
    {
      "cell_type": "code",
      "source": [
        "result.keys()"
      ],
      "metadata": {
        "id": "sTdosUrz2SVR"
      },
      "execution_count": null,
      "outputs": []
    },
    {
      "cell_type": "code",
      "source": [
        "len(result['masks'])"
      ],
      "metadata": {
        "id": "I2J7ILv72aKv"
      },
      "execution_count": null,
      "outputs": []
    },
    {
      "cell_type": "code",
      "source": [
        "plt.imshow(result['masks'][0])\n",
        "plt.show()\n",
        "# การใช้งานจริงการใช้แค่ 1 masks อาจะไม่เพียงพอ อาจะต้องใข้ masks อื่นๆ ไป overrate เพิ่ม\n",
        "# หรือวางทับบนภาพ original"
      ],
      "metadata": {
        "id": "61oSf23z2lQg"
      },
      "execution_count": null,
      "outputs": []
    },
    {
      "cell_type": "code",
      "source": [
        "import numpy as np\n",
        "import torch\n",
        "import matplotlib.pyplot as plt\n",
        "\n",
        "def show_mask(mask, ax, random_color=False):\n",
        "  if random_color:\n",
        "    color = np.concatenate([np.random.random(3), np.array([0.6])], axis=0)\n",
        "    # ต่อ array ของ random color กับ ค่า โปร่งใส\n",
        "  else:\n",
        "    color = np.array([30/255, 144/255, 255/255, 0.6])\n",
        "  h,w = mask.shape[-2:]\n",
        "  mask_image = mask.reshape(h,w,1) * color.reshape(1,1,-1)\n",
        "  ax.imshow(mask_image)\n"
      ],
      "metadata": {
        "id": "8NYyV8Oe2ugX"
      },
      "execution_count": null,
      "outputs": []
    },
    {
      "cell_type": "code",
      "source": [
        "def show_pipe_masks_on_image(raw_image, outputs):\n",
        "  plt.imshow(np.array(raw_image))\n",
        "  ax = plt.gca()\n",
        "  for mask in outputs['masks']:\n",
        "    show_mask(mask, ax=ax, random_color=True)\n",
        "  # plt.axis('off')\n",
        "  plt.show()"
      ],
      "metadata": {
        "id": "1v972MXd3qs4"
      },
      "execution_count": null,
      "outputs": []
    },
    {
      "cell_type": "code",
      "source": [
        "show_pipe_masks_on_image(image, result)"
      ],
      "metadata": {
        "id": "-mMIaAEE3xcg"
      },
      "execution_count": null,
      "outputs": []
    },
    {
      "cell_type": "code",
      "source": [
        "# normally จะนำผลลัพธ์จาก mask generatation ไปเข้า classification ต่อเพื่อตีความหมาย"
      ],
      "metadata": {
        "id": "VSqRS_ak4H2A"
      },
      "execution_count": null,
      "outputs": []
    },
    {
      "cell_type": "markdown",
      "source": [
        "**ทำ Segmentation แบบกำหนดจุด**  \n",
        "จะต้องทำผ่านการโหลดmodel โตยตรงแต่ไม่สามารถใช้ pipeline ได้"
      ],
      "metadata": {
        "id": "rNnUQVcJ7rJv"
      }
    },
    {
      "cell_type": "code",
      "source": [
        "from transformers import SamModel, SamProcessor\n",
        "\n",
        "model = SamModel.from_pretrained(\"Zigeng/SlimSAM-uniform-77\").to(\"cuda\")\n",
        "processor = SamProcessor.from_pretrained(\"Zigeng/SlimSAM-uniform-77\")"
      ],
      "metadata": {
        "id": "VD2zmECA7wqv"
      },
      "execution_count": null,
      "outputs": []
    },
    {
      "cell_type": "code",
      "source": [
        "plt.imshow(image)\n",
        "plt.show()"
      ],
      "metadata": {
        "id": "FLq7nns78HCY"
      },
      "execution_count": null,
      "outputs": []
    },
    {
      "cell_type": "code",
      "source": [
        "print(torch.cuda.is_available())\n",
        "device = 'cuda' if torch.cuda.is_available() else 'cpu'\n",
        "# recheck alread cuda work"
      ],
      "metadata": {
        "id": "dgM0lyzn-Anf"
      },
      "execution_count": null,
      "outputs": []
    },
    {
      "cell_type": "code",
      "source": [
        "input_points = [[[250, 450]]] # format be list of list of list\n",
        "inputs = processor(image,input_points=input_points, return_tensors=\"pt\").to(device)\n",
        "# change inputs from cpu to gpu before processing\n",
        "# return type be pytorch sensors"
      ],
      "metadata": {
        "id": "kbyh0JP28OAg"
      },
      "execution_count": null,
      "outputs": []
    },
    {
      "cell_type": "code",
      "source": [
        "import torch\n",
        "# torch no grad ใช้บอกเพื่อจะใข้งาน model โดยไม่มีการ update model ในช่วงการใช้งาน\n",
        "with torch.no_grad():\n",
        "  output = model(**inputs) # format be two *\n",
        "predicted_masks = processor.image_processor.post_process_masks(\n",
        "    output.pred_masks,\n",
        "    inputs['original_sizes'],\n",
        "    inputs['reshaped_input_sizes']\n",
        ")"
      ],
      "metadata": {
        "id": "Kq9SvZuN8rnG"
      },
      "execution_count": null,
      "outputs": []
    },
    {
      "cell_type": "code",
      "source": [
        "predicted_masks[0].shape\n",
        "# 3 สื่อถึงมี 3 candidate masks, 2 ตัวหลังคือ high width"
      ],
      "metadata": {
        "id": "f8z3N9Kp8_Vg"
      },
      "execution_count": null,
      "outputs": []
    },
    {
      "cell_type": "code",
      "source": [
        "output.iou_scores\n",
        "# สื่อถึงความมันใจของแต่ละ mask มีค่าเท่าไหร"
      ],
      "metadata": {
        "id": "7WWS2VhG-eWp"
      },
      "execution_count": null,
      "outputs": []
    },
    {
      "cell_type": "code",
      "source": [
        "def show_mask_on_image(raw_image, mask):\n",
        "  if not isinstance(mask, torch.Tensor):\n",
        "    masks = torch.Tensor(mask)\n",
        "  if len(mask.shape) == 4:\n",
        "    mask = mask.squeeze()\n",
        "    # บาง model จะมี shape เป็นสีตัวก็ใช้ squeeze เพื่อลด มิติให้เหลือสามมิติโดยการลบตัวแรกออกไป\n",
        "  print(mask.shape)\n",
        "  fig, axes = plt.subplots(1,1, figsize=(15,15))\n",
        "  mask = mask.cpu().detach()\n",
        "  # ย้าย mask จาก tensor มาที่ cpu แล้วแยก tensor จากการคำนวณออกมา\n",
        "  axes.imshow(np.array(raw_image))\n",
        "  show_mask(mask,axes)\n",
        "  plt.show()"
      ],
      "metadata": {
        "id": "HKVjl8nB_CdQ"
      },
      "execution_count": null,
      "outputs": []
    },
    {
      "cell_type": "code",
      "source": [
        "for i in range(len(predicted_masks[0][:])):\n",
        "  show_mask_on_image(image, predicted_masks[0][:,i])"
      ],
      "metadata": {
        "id": "rmFQg2eq_teo"
      },
      "execution_count": null,
      "outputs": []
    },
    {
      "cell_type": "markdown",
      "source": [
        "**Depth Estimation**  \n",
        "คือการประมาณความลึกจากภาพ เช่น Model DPT-Hybrid"
      ],
      "metadata": {
        "id": "GG0b7tC7C4AJ"
      }
    },
    {
      "cell_type": "code",
      "source": [
        "from transformers import pipeline"
      ],
      "metadata": {
        "id": "wg--SKmSC8qX"
      },
      "execution_count": null,
      "outputs": []
    },
    {
      "cell_type": "code",
      "source": [
        "model = 'Intel/dpt-hybrid-midas'\n",
        "depth_estimator = pipeline('depth-estimation', model=model)"
      ],
      "metadata": {
        "id": "8nLqsuX8D9-n"
      },
      "execution_count": null,
      "outputs": []
    },
    {
      "cell_type": "code",
      "source": [
        "result_depth = depth_estimator(image)"
      ],
      "metadata": {
        "id": "hoXU5yZqEFpv"
      },
      "execution_count": null,
      "outputs": []
    },
    {
      "cell_type": "code",
      "source": [
        "result_depth"
      ],
      "metadata": {
        "id": "WBJH4WCfENhv"
      },
      "execution_count": null,
      "outputs": []
    },
    {
      "cell_type": "code",
      "source": [
        "result_depth.keys()"
      ],
      "metadata": {
        "id": "Jb57Sh_IEOlQ"
      },
      "execution_count": null,
      "outputs": []
    },
    {
      "cell_type": "code",
      "source": [
        "plt.imshow(result_depth['depth'])\n",
        "plt.colorbar(label='Depth')\n",
        "plt.show()\n",
        "# ยิ่งใกล้จะมีค่ามาก ยิ่งไกลจะน้อย"
      ],
      "metadata": {
        "id": "wYKliLLnEQB_"
      },
      "execution_count": null,
      "outputs": []
    }
  ]
}