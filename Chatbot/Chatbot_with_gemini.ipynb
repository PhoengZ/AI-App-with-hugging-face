{
  "nbformat": 4,
  "nbformat_minor": 0,
  "metadata": {
    "colab": {
      "provenance": []
    },
    "kernelspec": {
      "name": "python3",
      "display_name": "Python 3"
    },
    "language_info": {
      "name": "python"
    }
  },
  "cells": [
    {
      "cell_type": "code",
      "execution_count": null,
      "metadata": {
        "id": "67RRPCX59uC6"
      },
      "outputs": [],
      "source": [
        "import gradio as gr\n",
        "from google import genai\n",
        "from PIL import Image\n",
        "import matplotlib.pyplot as plt"
      ]
    },
    {
      "cell_type": "code",
      "source": [
        "image = Image.open('image.png')\n",
        "plt.axis('off')\n",
        "plt.imshow(image)\n",
        "plt.show()"
      ],
      "metadata": {
        "id": "NxEciz5kAN_b"
      },
      "execution_count": null,
      "outputs": []
    },
    {
      "cell_type": "code",
      "source": [
        "api_key = \"\" # add your gemini api key\n",
        "client = genai.Client(api_key=\"\")\n",
        "# creat chat session\n",
        "# if want to assign role to gemini ai\n",
        "# use system_instruction\n",
        "system_instruction = \"คุณเป็นแมวพูดภาษามนุษย์ได้และน่ารักมากๆ\"\n",
        "chat = client.chats.create(model=\"gemini-2.0-flash\",\n",
        "                           config= genai.types.GenerateContentConfig(\n",
        "                               system_instruction=system_instruction\n",
        "                           )\n",
        "                        )"
      ],
      "metadata": {
        "id": "_KRLweA8_BS6"
      },
      "execution_count": null,
      "outputs": []
    },
    {
      "cell_type": "code",
      "source": [
        "def chat_fn(message, history=[]):\n",
        "  response = chat.send_message(message=message)\n",
        "  return response.text"
      ],
      "metadata": {
        "id": "awu3nSn493au"
      },
      "execution_count": null,
      "outputs": []
    },
    {
      "cell_type": "code",
      "source": [
        "gr.ChatInterface(fn=chat_fn, title=\"Smartest assistant\").launch()"
      ],
      "metadata": {
        "id": "L2NdX73u-UPF"
      },
      "execution_count": null,
      "outputs": []
    }
  ]
}